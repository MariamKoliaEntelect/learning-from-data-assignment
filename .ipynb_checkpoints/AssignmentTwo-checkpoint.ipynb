{
 "cells": [
  {
   "cell_type": "markdown",
   "id": "1093c92b-e708-427b-86d2-a007d8164f42",
   "metadata": {},
   "source": [
    "# Risky pregnancies: The impact certain factors have on the risk levels of a pregnancy."
   ]
  },
  {
   "cell_type": "markdown",
   "id": "aa2ba5f2-3e88-4157-973f-f051b5f2e272",
   "metadata": {},
   "source": [
    "## Table of Contents\n",
    "\n",
    "1.\tIntroduction and Dataset description\n",
    "2.\tImport libraries\n",
    "3.\tImport dataset\n",
    "4.\tExploratory data analysis\n",
    "\n",
    "**NB: Sections 5 - 10 will be done for 6 variables**\n",
    "\n",
    "5.\tComputation of Measures of Location\n",
    "    -\tSum\n",
    "    -\tSample Mean\n",
    "    -\tMode\n",
    "    -\tMedian\n",
    "    -\tGeometric Mean\n",
    "    -\t80th Percentile\n",
    "    \n",
    "6.\tComputation of Measures of Variability\n",
    "    -\tMinimum and maximum values\n",
    "    -\tRange\n",
    "    -\tVariance\n",
    "    -\tStandard deviation\n",
    "    -\tCoefficient of Variation\n",
    "    -\tFirst Quartile or 25th Percentile\n",
    "    -\tSecond Quartile or 50th Percentile\n",
    "    -\tThird Quartile or 75th Percentile\n",
    "    -\tInterquartile Range\n",
    "    \n",
    "7.\tExploratory Data Analysis\n",
    "    -\tBox plot\n",
    "    \n",
    "8.\tMeasures of Distribution Shape, Relative Location, and Detecting Outliers\n",
    "    -\tDistribution Shape - Histogram\n",
    "    -\tSkewness\n",
    "    -\tZ-Scores\n",
    "    -\tMin value Z-Score\n",
    "    -\tMax value Z-Score\n",
    "    -\tChebyshevs Theorem using K = 2\n",
    "    -\tEmperical Rule\n",
    "    -\tEmperical Rule Bell Curve\n",
    "\n",
    "9.\tComputation of measures of shape of distribution\n",
    "    -\tCovariance between Age and another column\n",
    "    -\tCorrelation Coefficient between Age and another Column\n",
    "    \n",
    "10.\tBonus calculations\n",
    "    - Kurtosis\n",
    "    - The `describe()` function\n",
    "\n",
    "11.\tConclusion\n",
    "12.\tReflections on learnings "
   ]
  },
  {
   "cell_type": "markdown",
   "id": "62645adc-4da2-4bee-b422-899ac88f0606",
   "metadata": {},
   "source": [
    "## 1. Introduction and Dataset description"
   ]
  },
  {
   "cell_type": "markdown",
   "id": "deddff17-c7b8-40e6-92df-82ec32cd95e1",
   "metadata": {},
   "source": [
    "A pregnancy is defined as the time between conception and birth that usually lasts for 40 weeks. In many cases, the duration of a pregnancy is when an expectant mother shifts her focus to the health and wellbeing of the little life growing inside of her and reduces the focus on herself. \n",
    "According to Macrotrends.net, the current infant mortality rate for India in 2024 is 25.799 deaths per 1000 live births, a 3.08% decline from 2023 where the infant mortality rate for India was 26.619 deaths per 1000 live births. Although infant mortality rates at birth have decreased, pregnancy-related deaths and serious complications for mothers have increased not only in India but worldwide during the last 30 years. The increase could be due to a combination of circumstances, including improved data collection on pregnancy mortality, an increase in the number of older mothers, and the increase in obesity among women. Unlike woman in the past, pregnant women today are more likely to have chronic diseases such as high blood pressure, diabetes, and heart disease, which can put them at risk for poor outcomes. \n",
    "\n",
    "This data analysis assignment contains data from 6103 pregnant woman from a clinic in India. The data is specifically focused on the health factors of the pregnant woman instead of any that concern the baby. There are several factors that can lead doctors to deduce the risk levels of a woman’s pregnancy but for the purpose of this study only variables such as age, heart rate, systolic and diastolic blood pressure, BMI, and fasting glucose have been taken into consideration. Via analysing these, it can be deduced whether her pregnancy is a high, mid, or low risk.\n",
    "\n",
    "A \"high-risk\" pregnancy means a woman has one or more things that raise her or her baby's chances for health problems or will cause a premature delivery. In certain cases, a high-risk pregnancy can lead to death of baby or mother. By gaining awareness of a woman’s pregnancy risk factors well in advance, doctors can attempt to facilitate in getting the variables attributing to the high-risk pregnancy managed and under control. "
   ]
  },
  {
   "cell_type": "markdown",
   "id": "60b264bc-43ac-45a5-82ed-43412d736683",
   "metadata": {},
   "source": [
    "For this assignment, I will be using **Descriptive Statistics** with **Python** to work out certain statistics in order to give basic summary measures about the dataset. The summary measures include measures of **Location** , **Variability** , **Distribution Shape** and others . Although I am not a qualified medical personnel, I will interpret the results of the meausures as I go along."
   ]
  },
  {
   "cell_type": "markdown",
   "id": "41c592ad-818b-4e55-9dda-e2f5b561e924",
   "metadata": {},
   "source": [
    "## 2. Import libraries"
   ]
  },
  {
   "cell_type": "markdown",
   "id": "9023beae-ec39-4b2c-9f6e-7d211a06ae94",
   "metadata": {},
   "source": [
    "Importing these libraries will aid me in being able to make use of a vast ecosystem of pre-written code that can save me both time and effort. I do not need to reinvent the wheel and attempt to document all the steps needed to perform calculations, draw graphs and many other processes. I am allowed to access and utilize functions, classes, and variables defined in external files with ease. I imported the basic libraries upon starting the assignment and added other as needed"
   ]
  },
  {
   "cell_type": "code",
   "execution_count": 188,
   "id": "26db9c6d-7b7d-41c6-a53f-d584f1ca5e04",
   "metadata": {},
   "outputs": [],
   "source": [
    "import pandas as pd\n",
    "import numpy as np\n",
    "import matplotlib.pyplot as plt\n",
    "import seaborn as sns\n",
    "%matplotlib inline\n",
    "from scipy.stats.mstats import gmean\n",
    "from scipy import stats\n",
    "from scipy.stats import norm"
   ]
  },
  {
   "cell_type": "markdown",
   "id": "78a917c5-818e-47e9-8372-47d0ec804a8b",
   "metadata": {},
   "source": [
    "## 3. Import dataset"
   ]
  },
  {
   "cell_type": "code",
   "execution_count": 213,
   "id": "357d5106-79a3-45a4-bdeb-07478bd571ac",
   "metadata": {},
   "outputs": [],
   "source": [
    "dataset = 'PregnancyData.csv'\n",
    "\n",
    "df = pd.read_csv(dataset)"
   ]
  },
  {
   "cell_type": "markdown",
   "id": "f327aca7-7270-48fd-80ae-af767db7151a",
   "metadata": {},
   "source": [
    "## 4. Exploratory data analysis"
   ]
  },
  {
   "cell_type": "markdown",
   "id": "07a736a4-4a54-4259-99e8-f343759ef550",
   "metadata": {},
   "source": [
    "Below, I will analyse the data set to gain high-level insights about it. There are many more interesting methods that exist that I have not used here that can be used as well. "
   ]
  },
  {
   "cell_type": "markdown",
   "id": "23e19163-f8d9-4d9d-a04a-3d63c2866826",
   "metadata": {},
   "source": [
    "### View dimensions of dataset"
   ]
  },
  {
   "cell_type": "code",
   "execution_count": 214,
   "id": "4bcc17e2-ac6a-4615-a3f1-cb16a222c1ac",
   "metadata": {},
   "outputs": [
    {
     "data": {
      "text/plain": [
       "(6103, 9)"
      ]
     },
     "execution_count": 214,
     "metadata": {},
     "output_type": "execute_result"
    }
   ],
   "source": [
    "df.shape"
   ]
  },
  {
   "cell_type": "markdown",
   "id": "d2000efa-63e0-438f-a367-a27d535c2508",
   "metadata": {},
   "source": [
    "We can see that there are 6103 instances and 9 variables in the data set."
   ]
  },
  {
   "cell_type": "markdown",
   "id": "f69515f0-9fde-413f-a91a-29ef2ff56f83",
   "metadata": {},
   "source": [
    "### Preview the dataset"
   ]
  },
  {
   "cell_type": "code",
   "execution_count": 216,
   "id": "59a2bd52-87fe-4e40-9b89-7abd39de4f09",
   "metadata": {},
   "outputs": [
    {
     "data": {
      "text/html": [
       "<div>\n",
       "<style scoped>\n",
       "    .dataframe tbody tr th:only-of-type {\n",
       "        vertical-align: middle;\n",
       "    }\n",
       "\n",
       "    .dataframe tbody tr th {\n",
       "        vertical-align: top;\n",
       "    }\n",
       "\n",
       "    .dataframe thead th {\n",
       "        text-align: right;\n",
       "    }\n",
       "</style>\n",
       "<table border=\"1\" class=\"dataframe\">\n",
       "  <thead>\n",
       "    <tr style=\"text-align: right;\">\n",
       "      <th></th>\n",
       "      <th>Patient ID</th>\n",
       "      <th>Name</th>\n",
       "      <th>Age</th>\n",
       "      <th>Heart rate(bpm)</th>\n",
       "      <th>Diastolic Blood Pressure(mm Hg)</th>\n",
       "      <th>Systolic Blood Pressure(mm Hg)</th>\n",
       "      <th>Blood Glucose(Fasting hour-mg/dl)</th>\n",
       "      <th>BMI(kg/m 2)</th>\n",
       "      <th>Outcome</th>\n",
       "    </tr>\n",
       "  </thead>\n",
       "  <tbody>\n",
       "    <tr>\n",
       "      <th>0</th>\n",
       "      <td>2003365</td>\n",
       "      <td>Kavni</td>\n",
       "      <td>15</td>\n",
       "      <td>61</td>\n",
       "      <td>65</td>\n",
       "      <td>144</td>\n",
       "      <td>5.6</td>\n",
       "      <td>24.8</td>\n",
       "      <td>high risk</td>\n",
       "    </tr>\n",
       "    <tr>\n",
       "      <th>1</th>\n",
       "      <td>2003208</td>\n",
       "      <td>Chitkala</td>\n",
       "      <td>15</td>\n",
       "      <td>124</td>\n",
       "      <td>66</td>\n",
       "      <td>146</td>\n",
       "      <td>6.7</td>\n",
       "      <td>24.5</td>\n",
       "      <td>high risk</td>\n",
       "    </tr>\n",
       "    <tr>\n",
       "      <th>2</th>\n",
       "      <td>2012139</td>\n",
       "      <td>Mrunalini</td>\n",
       "      <td>15</td>\n",
       "      <td>90</td>\n",
       "      <td>77</td>\n",
       "      <td>116</td>\n",
       "      <td>5.0</td>\n",
       "      <td>23.8</td>\n",
       "      <td>high risk</td>\n",
       "    </tr>\n",
       "    <tr>\n",
       "      <th>3</th>\n",
       "      <td>2003427</td>\n",
       "      <td>Ashrika</td>\n",
       "      <td>15</td>\n",
       "      <td>90</td>\n",
       "      <td>79</td>\n",
       "      <td>109</td>\n",
       "      <td>6.1</td>\n",
       "      <td>21.5</td>\n",
       "      <td>high risk</td>\n",
       "    </tr>\n",
       "    <tr>\n",
       "      <th>4</th>\n",
       "      <td>1994365</td>\n",
       "      <td>Thirishka</td>\n",
       "      <td>15</td>\n",
       "      <td>144</td>\n",
       "      <td>80</td>\n",
       "      <td>110</td>\n",
       "      <td>4.5</td>\n",
       "      <td>21.2</td>\n",
       "      <td>high risk</td>\n",
       "    </tr>\n",
       "  </tbody>\n",
       "</table>\n",
       "</div>"
      ],
      "text/plain": [
       "   Patient ID       Name  Age  Heart rate(bpm)  \\\n",
       "0     2003365      Kavni   15               61   \n",
       "1     2003208   Chitkala   15              124   \n",
       "2     2012139  Mrunalini   15               90   \n",
       "3     2003427    Ashrika   15               90   \n",
       "4     1994365  Thirishka   15              144   \n",
       "\n",
       "   Diastolic Blood Pressure(mm Hg)  Systolic Blood Pressure(mm Hg)  \\\n",
       "0                               65                             144   \n",
       "1                               66                             146   \n",
       "2                               77                             116   \n",
       "3                               79                             109   \n",
       "4                               80                             110   \n",
       "\n",
       "   Blood Glucose(Fasting hour-mg/dl)  BMI(kg/m 2)    Outcome  \n",
       "0                                5.6         24.8  high risk  \n",
       "1                                6.7         24.5  high risk  \n",
       "2                                5.0         23.8  high risk  \n",
       "3                                6.1         21.5  high risk  \n",
       "4                                4.5         21.2  high risk  "
      ]
     },
     "execution_count": 216,
     "metadata": {},
     "output_type": "execute_result"
    }
   ],
   "source": [
    "df.head()"
   ]
  },
  {
   "cell_type": "markdown",
   "id": "f1c3f487-139e-4c79-94b1-9538574f9b83",
   "metadata": {},
   "source": [
    "### View summary of dataset"
   ]
  },
  {
   "cell_type": "code",
   "execution_count": 20,
   "id": "d7081c95-b9b8-4982-80b9-1256d403f485",
   "metadata": {},
   "outputs": [
    {
     "name": "stdout",
     "output_type": "stream",
     "text": [
      "<class 'pandas.core.frame.DataFrame'>\n",
      "RangeIndex: 6103 entries, 0 to 6102\n",
      "Data columns (total 9 columns):\n",
      " #   Column                             Non-Null Count  Dtype  \n",
      "---  ------                             --------------  -----  \n",
      " 0   Patient ID                         6103 non-null   int64  \n",
      " 1   Name                               6103 non-null   object \n",
      " 2   Age                                6103 non-null   int64  \n",
      " 3   Heart rate(bpm)                    6103 non-null   int64  \n",
      " 4   Diastolic Blood Pressure(mm Hg)    6103 non-null   int64  \n",
      " 5   Systolic Blood Pressure(mm Hg)     6103 non-null   int64  \n",
      " 6   Blood Glucose(Fasting hour-mg/dl)  6103 non-null   float64\n",
      " 7   BMI(kg/m 2)                        6103 non-null   float64\n",
      " 8   Outcome                            6103 non-null   object \n",
      "dtypes: float64(2), int64(5), object(2)\n",
      "memory usage: 429.2+ KB\n"
     ]
    }
   ],
   "source": [
    "df.info()"
   ]
  },
  {
   "cell_type": "markdown",
   "id": "0f0b0a61-6e70-4ef6-8b1e-1e7ccccf8dbf",
   "metadata": {},
   "source": [
    "### Check for missing values"
   ]
  },
  {
   "cell_type": "code",
   "execution_count": 21,
   "id": "b9ed46b0-1b11-4a7f-9fd7-2fc335255ddd",
   "metadata": {},
   "outputs": [
    {
     "data": {
      "text/plain": [
       "Patient ID                           0\n",
       "Name                                 0\n",
       "Age                                  0\n",
       "Heart rate(bpm)                      0\n",
       "Diastolic Blood Pressure(mm Hg)      0\n",
       "Systolic Blood Pressure(mm Hg)       0\n",
       "Blood Glucose(Fasting hour-mg/dl)    0\n",
       "BMI(kg/m 2)                          0\n",
       "Outcome                              0\n",
       "dtype: int64"
      ]
     },
     "execution_count": 21,
     "metadata": {},
     "output_type": "execute_result"
    }
   ],
   "source": [
    "df.isnull().sum()"
   ]
  },
  {
   "cell_type": "markdown",
   "id": "b5f28959-d4ac-4d84-908a-954cadee7597",
   "metadata": {},
   "source": [
    "The above command shows that there are no missing values in the dataset."
   ]
  },
  {
   "cell_type": "markdown",
   "id": "2f9dd981-46f5-4188-8d24-1951b0b20fcc",
   "metadata": {},
   "source": [
    "### Observations"
   ]
  },
  {
   "cell_type": "markdown",
   "id": "fcaf2657-9244-4397-bb9d-e2c773041613",
   "metadata": {},
   "source": [
    "- We can see that the `Patient ID` , `Age` , `Heart rate` , `Diastolic Blood Pressure` and `Systolic Blood Pressure` variables are of integer data types\n",
    "- The `Blood Glucose` and `BMI` variable are of float data type. \n",
    "- The `Name` and `Outcome` variables are of object data type.\n",
    "- We can see that we are dealing with 6103 entries\n",
    "- We can see that we have a total of 9 columns\n",
    "- We can see that our entries are being numbered from 0 to 6102\n",
    "- We can see that none of the variables and their associated data columns contain any nulls therefore no data clean up or garbage data needs to be cleaned up"
   ]
  },
  {
   "cell_type": "markdown",
   "id": "3f4fb4c5-f5f7-40ea-88c0-50fa47d2e9e8",
   "metadata": {},
   "source": [
    "# Start of analysis"
   ]
  },
  {
   "cell_type": "markdown",
   "id": "659bfc46-d02b-4dce-8d47-0d2db63c3e44",
   "metadata": {},
   "source": [
    "## 1. Age"
   ]
  },
  {
   "cell_type": "markdown",
   "id": "c234c505-d5f1-4d42-bb7a-464c39ffa207",
   "metadata": {},
   "source": [
    "#### Sum"
   ]
  },
  {
   "cell_type": "code",
   "execution_count": 227,
   "id": "dd3da218-bf2c-4076-a9ea-592c40a21244",
   "metadata": {},
   "outputs": [
    {
     "name": "stdout",
     "output_type": "stream",
     "text": [
      "161047\n"
     ]
    }
   ],
   "source": [
    "sum = df['Age'].sum()\n",
    "\n",
    "print(sum)"
   ]
  },
  {
   "cell_type": "markdown",
   "id": "ce574368-7930-49ed-803b-e848b2fadc25",
   "metadata": {},
   "source": [
    "#### Mean"
   ]
  },
  {
   "cell_type": "code",
   "execution_count": 232,
   "id": "2908f15d-76fd-414e-9b63-a7ee6a0a13f3",
   "metadata": {},
   "outputs": [
    {
     "name": "stdout",
     "output_type": "stream",
     "text": [
      "26.388169752580698\n"
     ]
    }
   ],
   "source": [
    "mean = df['Age'].mean()\n",
    "\n",
    "print(mean)"
   ]
  },
  {
   "cell_type": "markdown",
   "id": "8695612e-34d8-476a-a03f-48c76e09ff56",
   "metadata": {},
   "source": [
    "#### Mode"
   ]
  },
  {
   "cell_type": "code",
   "execution_count": 229,
   "id": "aab264ab-15d9-40ea-9e3c-4d6450ecf08f",
   "metadata": {},
   "outputs": [
    {
     "name": "stdout",
     "output_type": "stream",
     "text": [
      "0    22\n",
      "Name: Age, dtype: int64\n"
     ]
    }
   ],
   "source": [
    "mode = df['Age'].mode()\n",
    "\n",
    "print(mode)"
   ]
  },
  {
   "cell_type": "markdown",
   "id": "74e88b54-18a3-439d-a39d-eac37e684b66",
   "metadata": {},
   "source": [
    "#### Median"
   ]
  },
  {
   "cell_type": "code",
   "execution_count": 231,
   "id": "51562afd-9caa-4d58-ad18-5cecbdc57421",
   "metadata": {},
   "outputs": [
    {
     "name": "stdout",
     "output_type": "stream",
     "text": [
      "25.0\n"
     ]
    }
   ],
   "source": [
    "median = df['Age'].median()\n",
    "\n",
    "print(median)"
   ]
  },
  {
   "cell_type": "markdown",
   "id": "139a0237-8c16-433e-a782-f2f884239b10",
   "metadata": {},
   "source": [
    "#### Geometric Mean"
   ]
  },
  {
   "cell_type": "code",
   "execution_count": 233,
   "id": "1f4416e7-ba1b-417b-9eb8-e883b2f470e9",
   "metadata": {},
   "outputs": [
    {
     "name": "stdout",
     "output_type": "stream",
     "text": [
      "25.80938525394794\n"
     ]
    }
   ],
   "source": [
    "geometric_mean = gmean(df.loc[:,'Age'])\n",
    "\n",
    "print(geometric_mean) "
   ]
  },
  {
   "cell_type": "markdown",
   "id": "d8045274-b665-42d2-87f1-4bf8bb6d2454",
   "metadata": {},
   "source": [
    "#### 80th Percentile"
   ]
  },
  {
   "cell_type": "code",
   "execution_count": 235,
   "id": "bf203ef1-5720-4ba6-b4d1-4ba5cae4de71",
   "metadata": {},
   "outputs": [
    {
     "name": "stdout",
     "output_type": "stream",
     "text": [
      "32.0\n"
     ]
    }
   ],
   "source": [
    "Q80 = df['Age'].quantile(0.80)\n",
    "                      \n",
    "print(Q80)"
   ]
  },
  {
   "cell_type": "markdown",
   "id": "d23bf13c-aa5f-43ca-b091-619eb3afcb8f",
   "metadata": {},
   "source": [
    "#### Lowest Value"
   ]
  },
  {
   "cell_type": "code",
   "execution_count": 236,
   "id": "e39367f5-ac89-44c7-99a5-0cd96588a60f",
   "metadata": {},
   "outputs": [
    {
     "data": {
      "text/plain": [
       "15"
      ]
     },
     "execution_count": 236,
     "metadata": {},
     "output_type": "execute_result"
    }
   ],
   "source": [
    "df['Age'].min()"
   ]
  },
  {
   "cell_type": "markdown",
   "id": "a02bea4c-a76b-433d-a267-45c31687f30d",
   "metadata": {},
   "source": [
    "#### Largest Value"
   ]
  },
  {
   "cell_type": "code",
   "execution_count": 237,
   "id": "68d954a0-e801-4a70-8d7e-bb6a536b2a78",
   "metadata": {},
   "outputs": [
    {
     "data": {
      "text/plain": [
       "48"
      ]
     },
     "execution_count": 237,
     "metadata": {},
     "output_type": "execute_result"
    }
   ],
   "source": [
    "df['Age'].max()"
   ]
  },
  {
   "cell_type": "markdown",
   "id": "e4806da1-b0a2-4071-9f19-31024f0dfc4e",
   "metadata": {},
   "source": [
    "#### Range"
   ]
  },
  {
   "cell_type": "code",
   "execution_count": 238,
   "id": "fc994652-c2bc-4bb6-b484-7a08238e45eb",
   "metadata": {},
   "outputs": [
    {
     "data": {
      "text/plain": [
       "33"
      ]
     },
     "execution_count": 238,
     "metadata": {},
     "output_type": "execute_result"
    }
   ],
   "source": [
    "df['Age'].max() - df['Age'].min()"
   ]
  },
  {
   "cell_type": "markdown",
   "id": "76e78c00-e3d1-4992-b1a3-03651f0e941a",
   "metadata": {},
   "source": [
    "#### Variance"
   ]
  },
  {
   "cell_type": "code",
   "execution_count": 239,
   "id": "ebda076a-984a-474b-a580-2368a92b2116",
   "metadata": {},
   "outputs": [
    {
     "data": {
      "text/plain": [
       "32.64199047134368"
      ]
     },
     "execution_count": 239,
     "metadata": {},
     "output_type": "execute_result"
    }
   ],
   "source": [
    "df['Age'].var()"
   ]
  },
  {
   "cell_type": "markdown",
   "id": "7c8640f2-242a-4a0b-a972-5e518ccadfe9",
   "metadata": {},
   "source": [
    "#### Standard Deviation"
   ]
  },
  {
   "cell_type": "code",
   "execution_count": 240,
   "id": "3a6526b5-74b4-4849-86bd-58c609ab8995",
   "metadata": {},
   "outputs": [
    {
     "name": "stdout",
     "output_type": "stream",
     "text": [
      "5.713316941264828\n"
     ]
    }
   ],
   "source": [
    "std_dev = df['Age'].std()\n",
    "\n",
    "print(std_dev)"
   ]
  },
  {
   "cell_type": "markdown",
   "id": "b79e2cc8-36b9-4b06-8a6a-ca84b9f081d3",
   "metadata": {},
   "source": [
    "#### Coefficient of Variation"
   ]
  },
  {
   "cell_type": "code",
   "execution_count": 241,
   "id": "df1c4f64-53ff-430f-b6be-9c7d6c15313f",
   "metadata": {},
   "outputs": [
    {
     "name": "stdout",
     "output_type": "stream",
     "text": [
      "0.21651054221773297\n"
     ]
    }
   ],
   "source": [
    "cv = (std_dev / mean)\n",
    "\n",
    "print(cv)"
   ]
  },
  {
   "cell_type": "markdown",
   "id": "17ef861e-5f2d-40d5-a40a-df0d60837929",
   "metadata": {},
   "source": [
    "#### First Quartile / 25th Percentile"
   ]
  },
  {
   "cell_type": "code",
   "execution_count": 242,
   "id": "e9cdcaac-4300-4f11-98d9-c26ea6a10499",
   "metadata": {},
   "outputs": [
    {
     "name": "stdout",
     "output_type": "stream",
     "text": [
      "22.0\n"
     ]
    }
   ],
   "source": [
    "Q1 = df['Age'].quantile(0.25)\n",
    "print(Q1)"
   ]
  },
  {
   "cell_type": "markdown",
   "id": "952913a8-9e73-4b1c-8826-ed4520e690a0",
   "metadata": {},
   "source": [
    "#### Second Quartile / 50th Percentile"
   ]
  },
  {
   "cell_type": "code",
   "execution_count": 243,
   "id": "72eef11e-0e97-42e9-9f2b-2b999163c4ed",
   "metadata": {},
   "outputs": [
    {
     "name": "stdout",
     "output_type": "stream",
     "text": [
      "25.0\n"
     ]
    }
   ],
   "source": [
    "Q2 = df['Age'].quantile(0.50)\n",
    "print(Q2)"
   ]
  },
  {
   "cell_type": "markdown",
   "id": "3d0c2160-3170-4367-8238-d7b74b349f36",
   "metadata": {},
   "source": [
    "#### Third Quartile / 75th Percentile"
   ]
  },
  {
   "cell_type": "code",
   "execution_count": 244,
   "id": "a2d9b3f3-3d3a-4a59-bc2a-5ebb7db27a65",
   "metadata": {},
   "outputs": [
    {
     "name": "stdout",
     "output_type": "stream",
     "text": [
      "30.0\n"
     ]
    }
   ],
   "source": [
    "Q3 = df['Age'].quantile(0.75)\n",
    "print(Q3)"
   ]
  },
  {
   "cell_type": "markdown",
   "id": "076aa759-6908-4e06-947b-ca93afcf477a",
   "metadata": {},
   "source": [
    "#### Interquartile Range"
   ]
  },
  {
   "cell_type": "code",
   "execution_count": 245,
   "id": "511c110a-bd82-4e6e-bb68-a8fb8fa98698",
   "metadata": {},
   "outputs": [
    {
     "name": "stdout",
     "output_type": "stream",
     "text": [
      "8.0\n"
     ]
    }
   ],
   "source": [
    "IQR = Q3  - Q1\n",
    "print(IQR)"
   ]
  },
  {
   "cell_type": "markdown",
   "id": "8116369a-492f-447e-b112-f0cc18919251",
   "metadata": {},
   "source": [
    "#### Box plot"
   ]
  },
  {
   "cell_type": "code",
   "execution_count": 246,
   "id": "7d6001cd-06d0-44fb-9864-b32d80c2e2fe",
   "metadata": {},
   "outputs": [
    {
     "data": {
      "image/png": "[encoded data removed]",
      "text/plain": [
       "<Figure size 640x480 with 1 Axes>"
      ]
     },
     "metadata": {},
     "output_type": "display_data"
    }
   ],
   "source": [
    "plt.boxplot(df['Age'])\n",
    "\n",
    "plt.show()"
   ]
  },
  {
   "cell_type": "markdown",
   "id": "a626d070-11c3-4e99-bc7b-1aef42b5d687",
   "metadata": {},
   "source": [
    "#### Distribution Shape - Histogram"
   ]
  },
  {
   "cell_type": "code",
   "execution_count": 247,
   "id": "20c30b5e-cdf5-4964-bdcf-89c58d6489c5",
   "metadata": {},
   "outputs": [
    {
     "data": {
      "image/png": "[encoded data removed]",
      "text/plain": [
       "<Figure size 640x480 with 1 Axes>"
      ]
     },
     "metadata": {},
     "output_type": "display_data"
    }
   ],
   "source": [
    "plt.hist(df['Age'],bins=8,color='skyblue', edgecolor='black')\n",
    "plt.xlabel('Age Ranges')\n",
    "plt.ylabel('Frequency')\n",
    "plt.title('Age of Woman')\n",
    "\n",
    "plt.show()"
   ]
  },
  {
   "cell_type": "markdown",
   "id": "618b6359-9a86-4199-bdc9-28b67461ab9f",
   "metadata": {},
   "source": [
    "#### Skewness"
   ]
  },
  {
   "cell_type": "code",
   "execution_count": 248,
   "id": "922e136e-f07b-458d-b6d5-f1cd5229366a",
   "metadata": {},
   "outputs": [
    {
     "data": {
      "text/plain": [
       "0.7908936437955204"
      ]
     },
     "execution_count": 248,
     "metadata": {},
     "output_type": "execute_result"
    }
   ],
   "source": [
    "df['Age'].skew()"
   ]
  },
  {
   "cell_type": "markdown",
   "id": "ad55379b-8a65-472b-958e-915afe092043",
   "metadata": {},
   "source": [
    "#### Z-Scores"
   ]
  },
  {
   "cell_type": "code",
   "execution_count": 249,
   "id": "d1b87b66-1ac3-4edb-b021-fa3fe0582642",
   "metadata": {},
   "outputs": [
    {
     "name": "stdout",
     "output_type": "stream",
     "text": [
      "0      -1.993431\n",
      "1      -1.993431\n",
      "2      -1.993431\n",
      "3      -1.993431\n",
      "4      -1.993431\n",
      "          ...   \n",
      "6098    3.432934\n",
      "6099    3.432934\n",
      "6100    3.432934\n",
      "6101    3.607978\n",
      "6102    3.783022\n",
      "Name: Age, Length: 6103, dtype: float64\n"
     ]
    }
   ],
   "source": [
    "z_scores = stats.zscore(df['Age'])\n",
    "\n",
    "print(z_scores)"
   ]
  },
  {
   "cell_type": "markdown",
   "id": "4f508853-624b-49be-a7c6-ade115731e83",
   "metadata": {},
   "source": [
    "#### Emperical Rule"
   ]
  },
  {
   "cell_type": "code",
   "execution_count": 250,
   "id": "2c36f0ec-39c7-481d-a258-4829ff0448c9",
   "metadata": {},
   "outputs": [
    {
     "name": "stdout",
     "output_type": "stream",
     "text": [
      "68% fall between:  20.67485281131587 and 32.10148669384552\n",
      "95% fall between:  14.961535870051042 and 37.81480363511035\n",
      "99.7% fall between:  9.248218928786216 and 43.52812057637518\n"
     ]
    }
   ],
   "source": [
    "sd_68_low = (mean - std_dev)\n",
    "sd_68_high =  (mean + std_dev)\n",
    "print(\"68% fall between: \", sd_68_low, \"and\", sd_68_high)\n",
    "\n",
    "sd_95_low = (mean - 2*std_dev)\n",
    "sd_95_high =  (mean + 2*std_dev)\n",
    "print(\"95% fall between: \", sd_95_low, \"and\", sd_95_high)\n",
    "\n",
    "sd_99_low = (mean - 3*std_dev)\n",
    "sd_99_high = (mean + 3*std_dev)\n",
    "print(\"99.7% fall between: \", sd_99_low, \"and\", sd_99_high)"
   ]
  },
  {
   "cell_type": "markdown",
   "id": "09a60bf8-e101-437c-b609-15b1d2321548",
   "metadata": {},
   "source": [
    "#### Emperical Rule Plot"
   ]
  },
  {
   "cell_type": "code",
   "execution_count": 251,
   "id": "d6968622-75e4-4ba4-8bba-bbd1a5d98180",
   "metadata": {},
   "outputs": [
    {
     "data": {
      "image/png": "[encoded data removed]",
      "text/plain": [
       "<Figure size 640x480 with 1 Axes>"
      ]
     },
     "metadata": {},
     "output_type": "display_data"
    }
   ],
   "source": [
    "plt.hist(df['Age'], bins=30, density=True, alpha=0.7)\n",
    "\n",
    "# Plot the mean and standard deviations\n",
    "plt.axvline(mean, color='r', linestyle='dashed', linewidth=1, label='Mean')\n",
    "plt.axvline(mean - std_dev, color='g', linestyle='dashed', linewidth=1, label='1 STD')\n",
    "plt.axvline(mean + std_dev, color='g', linestyle='dashed', linewidth=1)\n",
    "plt.axvline(mean - 2*std_dev, color='b', linestyle='dashed', linewidth=1, label='2 STD')\n",
    "plt.axvline(mean + 2*std_dev, color='b', linestyle='dashed', linewidth=1)\n",
    "plt.axvline(mean - 3*std_dev, color='m', linestyle='dashed', linewidth=1, label='3 STD')\n",
    "plt.axvline(mean + 3*std_dev, color='m', linestyle='dashed', linewidth=1)\n",
    "\n",
    "plt.legend()\n",
    "plt.xlabel('Age of woman')\n",
    "plt.ylabel('Density')\n",
    "plt.title('Histogram of Age of woman')\n",
    "plt.show()"
   ]
  },
  {
   "cell_type": "markdown",
   "id": "1dae9606-9f38-4445-80d8-079e6609f9ca",
   "metadata": {},
   "source": [
    "#### Chebyshevs Theorem"
   ]
  },
  {
   "cell_type": "markdown",
   "id": "eacb195b-c636-4216-967f-4c56a06a2ad0",
   "metadata": {},
   "source": [
    "Using Chebshevs theorem to find the proportion of observations I would expect to find within k standard deviations from the mean. The formula that can be used is:"
   ]
  },
  {
   "cell_type": "code",
   "execution_count": 403,
   "id": "cf55f581-b3d7-4f95-99e4-67cfb153c54d",
   "metadata": {},
   "outputs": [],
   "source": [
    "def chebyshev_probability(k):\n",
    "    return 1 -(1 / (k ** 2))"
   ]
  },
  {
   "cell_type": "code",
   "execution_count": 405,
   "id": "1d8b1d2b-c26f-4d6a-964a-f65c6b4064cb",
   "metadata": {},
   "outputs": [
    {
     "name": "stdout",
     "output_type": "stream",
     "text": [
      "75.0 % fall between:  17.121460295545305 and 25.74970142819712\n"
     ]
    }
   ],
   "source": [
    "k = 2\n",
    "formula = chebyshev_probability(k) * 100\n",
    "lower_bound = mean - k * std_dev\n",
    "upper_bound = mean + k * std_dev\n",
    "\n",
    "print(formula,\"% of the values fall between: \", lower_bound, \"and\", upper_bound)"
   ]
  },
  {
   "attachments": {},
   "cell_type": "markdown",
   "id": "2470ef36-ddf5-4081-b08b-5168109392cf",
   "metadata": {},
   "source": [
    "#### Age Data Analysis\n",
    "- The age that is considered to be normal for a healthy pregnancy is late 20's to early 30's.\n",
    "- The mean which is 26.39 shows us that the average woman is within the correct age bracket to be considered as normal pregnancy age.\n",
    "- The mode which is  22  shows us that it is most common for a woman to be slightly under the correct age bracket to be considered as normal pregnancy age.\n",
    "- Women in the the 1st Quartile are slightly under the correct age bracket however woman in the 2nd and 3rd Quartile are within the correct age bracket to be considered as normal pregnancy age.\n",
    "- We see there is a woman whose age is the highest at 48  which is much too high. She would be an ideal candidate for medical intervention and guidance from her medical team in this regard.\n",
    "- We see there is a woman whose age is the lowest at 15  which is much too low. She would be an ideal candidate for medical intervention and guidance from her medical team in this regard.\n",
    "- Skewness of the data is a positive value of 0.79  therefore we can note the mean (26.39) is more than the median (25)n (25)\r\n"
   ]
  },
  {
   "cell_type": "markdown",
   "id": "834088fc-97e3-49e1-9dd0-0e941e43326d",
   "metadata": {},
   "source": [
    "## 2. Heart rate (bpm)"
   ]
  },
  {
   "cell_type": "markdown",
   "id": "d400271c-3cb2-43a2-ae1e-786b1534110e",
   "metadata": {},
   "source": [
    "#### Sum"
   ]
  },
  {
   "cell_type": "code",
   "execution_count": 408,
   "id": "a736338e-b3d8-42da-922b-04e5a788090b",
   "metadata": {},
   "outputs": [
    {
     "name": "stdout",
     "output_type": "stream",
     "text": [
      "525473\n"
     ]
    }
   ],
   "source": [
    "sum = df['Heart rate(bpm)'].sum()\n",
    "\n",
    "print(sum)"
   ]
  },
  {
   "cell_type": "markdown",
   "id": "d5cfed65-c1ed-4d42-9340-01a7b9d5a259",
   "metadata": {},
   "source": [
    "#### Mean"
   ]
  },
  {
   "cell_type": "code",
   "execution_count": 409,
   "id": "e1140521-48f0-4a4b-b617-5ea1d4d25907",
   "metadata": {},
   "outputs": [
    {
     "name": "stdout",
     "output_type": "stream",
     "text": [
      "0    70\n",
      "Name: Heart rate(bpm), dtype: int64\n"
     ]
    }
   ],
   "source": [
    "mode = df['Heart rate(bpm)'].mode()\n",
    "\n",
    "print(mode)"
   ]
  },
  {
   "cell_type": "markdown",
   "id": "52ae9a80-ae76-4d44-8c7d-627fc7dbf3af",
   "metadata": {},
   "source": [
    "#### Mode"
   ]
  },
  {
   "cell_type": "code",
   "execution_count": 410,
   "id": "182530d0-79e7-4c84-82d4-26d6f2a563ba",
   "metadata": {},
   "outputs": [
    {
     "name": "stdout",
     "output_type": "stream",
     "text": [
      "86.10077011305916\n"
     ]
    }
   ],
   "source": [
    "mean = df['Heart rate(bpm)'].mean()\n",
    "\n",
    "print(mean)"
   ]
  },
  {
   "cell_type": "markdown",
   "id": "b0709bba-ce1b-4662-baa1-1af4394031fc",
   "metadata": {},
   "source": [
    "#### Median"
   ]
  },
  {
   "cell_type": "code",
   "execution_count": 411,
   "id": "1963130e-eb23-45d2-ab84-5f838f6c2698",
   "metadata": {},
   "outputs": [
    {
     "name": "stdout",
     "output_type": "stream",
     "text": [
      "80.0\n"
     ]
    }
   ],
   "source": [
    "median = df['Heart rate(bpm)'].median()\n",
    "\n",
    "print(median)"
   ]
  },
  {
   "cell_type": "markdown",
   "id": "2d0439a6-60dc-432c-8577-04191d3e394e",
   "metadata": {},
   "source": [
    "#### Geometric Mean"
   ]
  },
  {
   "cell_type": "code",
   "execution_count": 412,
   "id": "90c2d949-e5c6-49b1-a664-aeaa2039f1eb",
   "metadata": {},
   "outputs": [
    {
     "name": "stdout",
     "output_type": "stream",
     "text": [
      "83.45180676392825\n"
     ]
    }
   ],
   "source": [
    "geometric_mean = gmean(df.loc[:,'Heart rate(bpm)'])\n",
    "\n",
    "print(geometric_mean)"
   ]
  },
  {
   "cell_type": "markdown",
   "id": "44cef41c-fe0f-4ecb-aa18-7e28b1783eaf",
   "metadata": {},
   "source": [
    "#### 80th Percentile"
   ]
  },
  {
   "cell_type": "code",
   "execution_count": 413,
   "id": "4c4be58e-bba0-407e-a6b2-a589b07187ed",
   "metadata": {},
   "outputs": [
    {
     "name": "stdout",
     "output_type": "stream",
     "text": [
      "98.0\n"
     ]
    }
   ],
   "source": [
    "Q80 = df['Heart rate(bpm)'].quantile(0.80)\n",
    "\n",
    "print(Q80)"
   ]
  },
  {
   "cell_type": "markdown",
   "id": "30f5c1e7-cf62-4f57-b978-949e7491f3ed",
   "metadata": {},
   "source": [
    "#### Lowest Value"
   ]
  },
  {
   "cell_type": "code",
   "execution_count": 414,
   "id": "a3e9b466-e1b3-40b1-b09d-396d84c1f56b",
   "metadata": {},
   "outputs": [
    {
     "data": {
      "text/plain": [
       "45"
      ]
     },
     "execution_count": 414,
     "metadata": {},
     "output_type": "execute_result"
    }
   ],
   "source": [
    "df['Heart rate(bpm)'].min()"
   ]
  },
  {
   "cell_type": "markdown",
   "id": "aaae5924-00ba-4ab9-a587-7b6eb4582b95",
   "metadata": {},
   "source": [
    "#### Largest Value"
   ]
  },
  {
   "cell_type": "code",
   "execution_count": 415,
   "id": "8579a014-7cf8-4bb1-9531-31caca3d38f7",
   "metadata": {},
   "outputs": [
    {
     "data": {
      "text/plain": [
       "150"
      ]
     },
     "execution_count": 415,
     "metadata": {},
     "output_type": "execute_result"
    }
   ],
   "source": [
    "df['Heart rate(bpm)'].max()"
   ]
  },
  {
   "cell_type": "markdown",
   "id": "e91c61db-3b37-49a3-81be-0e3073e76b0b",
   "metadata": {},
   "source": [
    "#### Range"
   ]
  },
  {
   "cell_type": "code",
   "execution_count": 416,
   "id": "b567dc48-1d37-4c43-8253-2a8720c0013f",
   "metadata": {},
   "outputs": [
    {
     "data": {
      "text/plain": [
       "105"
      ]
     },
     "execution_count": 416,
     "metadata": {},
     "output_type": "execute_result"
    }
   ],
   "source": [
    "df['Heart rate(bpm)'].max() - df['Heart rate(bpm)'].min()"
   ]
  },
  {
   "cell_type": "markdown",
   "id": "648389a7-4193-4fac-89dc-7730551a7219",
   "metadata": {},
   "source": [
    "#### Variance"
   ]
  },
  {
   "cell_type": "code",
   "execution_count": 417,
   "id": "fb353bcb-6ec8-4440-ab00-d0c7effb4079",
   "metadata": {},
   "outputs": [
    {
     "data": {
      "text/plain": [
       "512.0077067158836"
      ]
     },
     "execution_count": 417,
     "metadata": {},
     "output_type": "execute_result"
    }
   ],
   "source": [
    "df['Heart rate(bpm)'].var()"
   ]
  },
  {
   "cell_type": "markdown",
   "id": "7388d1c4-5571-4d6e-8fcf-69954337ee4c",
   "metadata": {},
   "source": [
    "#### Standard Deviation"
   ]
  },
  {
   "cell_type": "code",
   "execution_count": 418,
   "id": "e7394f99-4d2d-43cd-a67a-75a23b154cad",
   "metadata": {},
   "outputs": [
    {
     "name": "stdout",
     "output_type": "stream",
     "text": [
      "22.62758729329938\n"
     ]
    }
   ],
   "source": [
    "std_dev = df['Heart rate(bpm)'].std()\n",
    "\n",
    "print(std_dev)"
   ]
  },
  {
   "cell_type": "markdown",
   "id": "c57297d8-1b55-4246-93d9-a98787f577e5",
   "metadata": {},
   "source": [
    "#### Coefficient of Variation"
   ]
  },
  {
   "cell_type": "code",
   "execution_count": 419,
   "id": "01cd5ef2-9d09-4f2a-bfb3-de76f369cc6b",
   "metadata": {},
   "outputs": [
    {
     "name": "stdout",
     "output_type": "stream",
     "text": [
      "0.26280354128757544\n"
     ]
    }
   ],
   "source": [
    "cv = (std_dev / mean)\n",
    "\n",
    "print(cv)"
   ]
  },
  {
   "cell_type": "markdown",
   "id": "91f150f3-40a9-42fc-87ef-cf79ee5fea7f",
   "metadata": {},
   "source": [
    "#### First Quartile / 25th Percentile"
   ]
  },
  {
   "cell_type": "code",
   "execution_count": 420,
   "id": "b06dea82-9c4a-47e4-8e84-c0617b28ea01",
   "metadata": {},
   "outputs": [
    {
     "name": "stdout",
     "output_type": "stream",
     "text": [
      "72.0\n"
     ]
    }
   ],
   "source": [
    "Q1 = df['Heart rate(bpm)'].quantile(0.25)\n",
    "\n",
    "print(Q1)"
   ]
  },
  {
   "cell_type": "markdown",
   "id": "a79aa779-a7da-4ca2-97e2-150c5991b2b7",
   "metadata": {},
   "source": [
    "#### Second Quartile / 50th Percentile"
   ]
  },
  {
   "cell_type": "code",
   "execution_count": 421,
   "id": "ffe88e93-d47a-4220-9fd4-5cb4d2fb9018",
   "metadata": {},
   "outputs": [
    {
     "name": "stdout",
     "output_type": "stream",
     "text": [
      "80.0\n"
     ]
    }
   ],
   "source": [
    "Q2 = df['Heart rate(bpm)'].quantile(0.50)\n",
    "\n",
    "print(Q2)"
   ]
  },
  {
   "cell_type": "markdown",
   "id": "ecd6d35e-63f0-4a4b-b39d-399adc7f9e20",
   "metadata": {},
   "source": [
    "#### Third Quartile / 75th Percentile"
   ]
  },
  {
   "cell_type": "code",
   "execution_count": 422,
   "id": "0e8b0f0f-7e8d-400b-bbb6-d3e902901e68",
   "metadata": {},
   "outputs": [
    {
     "name": "stdout",
     "output_type": "stream",
     "text": [
      "91.0\n"
     ]
    }
   ],
   "source": [
    "Q3 = df['Heart rate(bpm)'].quantile(0.75)\n",
    "\n",
    "print(Q3)"
   ]
  },
  {
   "cell_type": "markdown",
   "id": "9483e265-1c83-4778-b35f-47739ecc3ff0",
   "metadata": {},
   "source": [
    "#### Interquartile Range"
   ]
  },
  {
   "cell_type": "code",
   "execution_count": 423,
   "id": "ab433520-e993-463d-96c4-0a4d7d69a3aa",
   "metadata": {},
   "outputs": [
    {
     "name": "stdout",
     "output_type": "stream",
     "text": [
      "19.0\n"
     ]
    }
   ],
   "source": [
    "IQR = Q3 - Q1\n",
    "\n",
    "print(IQR)"
   ]
  },
  {
   "cell_type": "markdown",
   "id": "bbad8959-b0be-4b80-96d8-2d8416ec9aff",
   "metadata": {},
   "source": [
    "#### Box plot"
   ]
  },
  {
   "cell_type": "code",
   "execution_count": 424,
   "id": "605aefba-5aa4-4a14-991f-e28351bef513",
   "metadata": {},
   "outputs": [
    {
     "data": {
      "image/png": "[encoded data removed]",
      "text/plain": [
       "<Figure size 640x480 with 1 Axes>"
      ]
     },
     "metadata": {},
     "output_type": "display_data"
    }
   ],
   "source": [
    "plt.boxplot(df['Heart rate(bpm)'])\n",
    "\n",
    "plt.show()"
   ]
  },
  {
   "cell_type": "markdown",
   "id": "be1f5df8-8191-4438-8eeb-142c695e433f",
   "metadata": {},
   "source": [
    "#### Distribution Shape - Histogram"
   ]
  },
  {
   "cell_type": "code",
   "execution_count": 425,
   "id": "3c1f401e-5c96-4345-ada4-73356b2f44bd",
   "metadata": {},
   "outputs": [
    {
     "data": {
      "image/png": "[encoded data removed]",
      "text/plain": [
       "<Figure size 640x480 with 1 Axes>"
      ]
     },
     "metadata": {},
     "output_type": "display_data"
    }
   ],
   "source": [
    "plt.hist(df['Heart rate(bpm)'],bins=8,color='skyblue', edgecolor='black')\n",
    "plt.xlabel('Heart rate Ranges')\n",
    "plt.ylabel('Frequency')\n",
    "plt.title('Heart rate(bpm) of Woman')\n",
    "\n",
    "plt.show()"
   ]
  },
  {
   "cell_type": "markdown",
   "id": "85a3865e-7a4a-48b7-a4f4-d5670b2e5332",
   "metadata": {},
   "source": [
    "#### Skewness"
   ]
  },
  {
   "cell_type": "code",
   "execution_count": 426,
   "id": "173f2e88-92bc-4f4a-b318-f2df2318691a",
   "metadata": {},
   "outputs": [
    {
     "data": {
      "text/plain": [
       "1.1185244891557982"
      ]
     },
     "execution_count": 426,
     "metadata": {},
     "output_type": "execute_result"
    }
   ],
   "source": [
    "df['Heart rate(bpm)'].skew()"
   ]
  },
  {
   "cell_type": "markdown",
   "id": "7471dc61-5169-42dc-a304-6feb86191269",
   "metadata": {},
   "source": [
    "#### Z-Scores"
   ]
  },
  {
   "cell_type": "code",
   "execution_count": 427,
   "id": "19027a4e-3c62-4c6d-986a-6739327cbbdb",
   "metadata": {},
   "outputs": [
    {
     "name": "stdout",
     "output_type": "stream",
     "text": [
      "0      -1.109390\n",
      "1       1.675050\n",
      "2       0.172336\n",
      "3       0.172336\n",
      "4       2.558999\n",
      "          ...   \n",
      "6098    1.630852\n",
      "6099   -0.092849\n",
      "6100   -0.490626\n",
      "6101    0.216534\n",
      "6102    0.702706\n",
      "Name: Heart rate(bpm), Length: 6103, dtype: float64\n"
     ]
    }
   ],
   "source": [
    "z_scores = stats.zscore(df['Heart rate(bpm)'])\n",
    "\n",
    "print(z_scores)"
   ]
  },
  {
   "cell_type": "markdown",
   "id": "c1c7438a-04ee-4735-ac11-006849d418cc",
   "metadata": {},
   "source": [
    "#### Emperical Rule"
   ]
  },
  {
   "cell_type": "code",
   "execution_count": 428,
   "id": "9746521d-b605-41d8-bf81-daa69cfde76b",
   "metadata": {},
   "outputs": [
    {
     "name": "stdout",
     "output_type": "stream",
     "text": [
      "68% fall between:  63.47318281975977 and 108.72835740635854\n",
      "95% fall between:  40.84559552646039 and 131.35594469965793\n",
      "99.7% fall between:  18.218008233161015 and 153.9835319929573\n"
     ]
    }
   ],
   "source": [
    "sd_68_low = (mean - std_dev)\n",
    "sd_68_high =  (mean + std_dev)\n",
    "print(\"68% fall between: \", sd_68_low, \"and\", sd_68_high)\n",
    "\n",
    "sd_95_low = (mean - 2*std_dev)\n",
    "sd_95_high =  (mean + 2*std_dev)\n",
    "print(\"95% fall between: \", sd_95_low, \"and\", sd_95_high)\n",
    "\n",
    "sd_99_low = (mean - 3*std_dev)\n",
    "sd_99_high = (mean + 3*std_dev)\n",
    "print(\"99.7% fall between: \", sd_99_low, \"and\", sd_99_high)"
   ]
  },
  {
   "cell_type": "markdown",
   "id": "860f237a-0ac5-4f51-bae1-cd27411a79f2",
   "metadata": {},
   "source": [
    "#### Emperical Rule Plot"
   ]
  },
  {
   "cell_type": "code",
   "execution_count": 429,
   "id": "d8465015-0fbe-4d0c-a09d-3ae6b7efcfac",
   "metadata": {},
   "outputs": [
    {
     "data": {
      "image/png": "[encoded data removed]",
      "text/plain": [
       "<Figure size 640x480 with 1 Axes>"
      ]
     },
     "metadata": {},
     "output_type": "display_data"
    }
   ],
   "source": [
    "plt.hist(df['Heart rate(bpm)'], bins=30, density=True, alpha=0.7)\n",
    "\n",
    "# Plot the mean and standard deviations\n",
    "plt.axvline(mean, color='r', linestyle='dashed', linewidth=1, label='Mean')\n",
    "plt.axvline(mean - std_dev, color='g', linestyle='dashed', linewidth=1, label='1 STD')\n",
    "plt.axvline(mean + std_dev, color='g', linestyle='dashed', linewidth=1)\n",
    "plt.axvline(mean - 2*std_dev, color='b', linestyle='dashed', linewidth=1, label='2 STD')\n",
    "plt.axvline(mean + 2*std_dev, color='b', linestyle='dashed', linewidth=1)\n",
    "plt.axvline(mean - 3*std_dev, color='m', linestyle='dashed', linewidth=1, label='3 STD')\n",
    "plt.axvline(mean + 3*std_dev, color='m', linestyle='dashed', linewidth=1)\n",
    "\n",
    "plt.legend()\n",
    "plt.xlabel('Heart rate of woman')\n",
    "plt.ylabel('Density')\n",
    "plt.title('Histogram of Heart rates(bpm) of women')\n",
    "plt.show()"
   ]
  },
  {
   "cell_type": "markdown",
   "id": "33098040-ca26-41d2-8985-e4c9ed3f0964",
   "metadata": {},
   "source": [
    "#### Chebyshevs Theorem"
   ]
  },
  {
   "cell_type": "markdown",
   "id": "decdf289-5c62-4027-b33c-b539cc66c218",
   "metadata": {},
   "source": [
    "Using Chebshevs theorem to find the proportion of observations I would expect to find within k standard deviations from the mean. The formula that can be used is:"
   ]
  },
  {
   "cell_type": "code",
   "execution_count": 430,
   "id": "7b1eb574-8666-4ea8-a647-26137bcdc25e",
   "metadata": {},
   "outputs": [],
   "source": [
    "def chebyshev_probability(k):\n",
    "    return 1 -(1 / (k ** 2))"
   ]
  },
  {
   "cell_type": "code",
   "execution_count": 431,
   "id": "65bb0825-448a-4594-b048-caff49017122",
   "metadata": {},
   "outputs": [
    {
     "name": "stdout",
     "output_type": "stream",
     "text": [
      "75.0 % of the values fall between:  40.84559552646039 and 131.35594469965793\n"
     ]
    }
   ],
   "source": [
    "k = 2\n",
    "formula = chebyshev_probability(k) * 100\n",
    "lower_bound = mean - k * std_dev\n",
    "upper_bound = mean + k * std_dev\n",
    "\n",
    "print(formula,\"% of the values fall between: \", lower_bound, \"and\", upper_bound)"
   ]
  },
  {
   "cell_type": "markdown",
   "id": "28af07a6-ad20-45a4-ba57-a98778ba4975",
   "metadata": {},
   "source": [
    "#### Association Between Two Variables"
   ]
  },
  {
   "cell_type": "code",
   "execution_count": 279,
   "id": "3ee2ce13-6662-4c70-b2d6-e66593f6ffae",
   "metadata": {},
   "outputs": [
    {
     "name": "stdout",
     "output_type": "stream",
     "text": [
      "Covariance between Age and Heart rate: 23.03364070831906\n",
      "Correlation Coefficient between Age and Heart rate: 0.17817059172710223\n"
     ]
    }
   ],
   "source": [
    "x = df['Age'] # Variable 1\n",
    "y = df['Heart rate(bpm)'] # Variable 2\n",
    "\n",
    "covariance = np.cov(x, y)[0, 1]\n",
    "print(\"Covariance between Age and Heart rate:\", covariance)\n",
    "\n",
    "correlation_coefficient = np.corrcoef(x, y)[0, 1]\n",
    "print(\"Correlation Coefficient between Age and Heart rate:\", correlation_coefficient)"
   ]
  },
  {
   "cell_type": "markdown",
   "id": "b6b399b5-53ac-4d83-9291-74fd3995df96",
   "metadata": {},
   "source": [
    "#### Heart Rate Data Analysis\n",
    " - The normal heart rate to be expected during pregnancy is 70 -90 BPM.\n",
    " - The mean which is 86.1 BPM shows us that the average woman has a normal heart rate.\n",
    " - The mode which is 70 BPM shows us that it is most common for a woman to have a normal heart rate.\n",
    " - Woman between the 1st and 3rd Quartile have a normal heart rate.\n",
    " - We see there is a woman whose heart rate is the highest at 150 BPM which is much too high. She would be an ideal candidate for medical intervention in this regard.\n",
    " - We see there is a woman whose heart rate is the lowest at 45 BPM which is much too low. She would be an ideal candidate for medical intervention in this regard.\n",
    " - Skewness of the data is a positive value of 0.22 therefore we can note the mean (86.1) is more than the median (80)\n",
    " - The covariance between a women’s age and her heart rate is a positive one (23.03). Therefore, if an increase in age occurs it results in an increase in the heart rate as well.\n",
    " - The correlation coefficient between a women’s age and her heart rate is a positive one (0.18) however 0.18 is low and therefore there is little to no correlation between the two factors"
   ]
  },
  {
   "cell_type": "markdown",
   "id": "8d99eac1-26a8-4d54-94e5-e0cf0fa65f84",
   "metadata": {},
   "source": [
    "## 3. Diastolic Blood Pressure (mm Hg)"
   ]
  },
  {
   "cell_type": "markdown",
   "id": "7154eae0-39aa-42c7-898c-60d7ae8508d4",
   "metadata": {},
   "source": [
    "#### Sum"
   ]
  },
  {
   "cell_type": "code",
   "execution_count": 282,
   "id": "000517a0-e13b-4963-88af-efe1a3e4a58c",
   "metadata": {},
   "outputs": [
    {
     "name": "stdout",
     "output_type": "stream",
     "text": [
      "532533\n"
     ]
    }
   ],
   "source": [
    "sum = df['Diastolic Blood Pressure(mm Hg)'].sum()\n",
    "\n",
    "print(sum)"
   ]
  },
  {
   "cell_type": "markdown",
   "id": "8dae4a20-fd49-4cd9-b4cf-1612b52aa41f",
   "metadata": {},
   "source": [
    "#### Mean"
   ]
  },
  {
   "cell_type": "code",
   "execution_count": 283,
   "id": "fe499d5f-5414-48b6-be5c-41d827fdd127",
   "metadata": {},
   "outputs": [
    {
     "name": "stdout",
     "output_type": "stream",
     "text": [
      "87.25757824020974\n"
     ]
    }
   ],
   "source": [
    "mean = df['Diastolic Blood Pressure(mm Hg)'].mean()\n",
    "\n",
    "print(mean)"
   ]
  },
  {
   "cell_type": "markdown",
   "id": "16a1696f-6b19-4a1c-ac4f-bca7fdf9d17f",
   "metadata": {},
   "source": [
    "#### Mode"
   ]
  },
  {
   "cell_type": "code",
   "execution_count": 284,
   "id": "ab23fcdf-fb0a-4cb4-964f-b04368bd00d6",
   "metadata": {},
   "outputs": [
    {
     "name": "stdout",
     "output_type": "stream",
     "text": [
      "0    80\n",
      "Name: Diastolic Blood Pressure(mm Hg), dtype: int64\n"
     ]
    }
   ],
   "source": [
    "mode = df['Diastolic Blood Pressure(mm Hg)'].mode()\n",
    "\n",
    "print(mode)"
   ]
  },
  {
   "cell_type": "markdown",
   "id": "d6d1c832-4532-4909-be3a-869392e0d157",
   "metadata": {},
   "source": [
    "#### Median"
   ]
  },
  {
   "cell_type": "code",
   "execution_count": 285,
   "id": "f540768d-2c3f-4825-83b3-0c1ac70df82a",
   "metadata": {},
   "outputs": [
    {
     "name": "stdout",
     "output_type": "stream",
     "text": [
      "87.0\n"
     ]
    }
   ],
   "source": [
    "median = df['Diastolic Blood Pressure(mm Hg)'].median()\n",
    "\n",
    "print(median)"
   ]
  },
  {
   "cell_type": "markdown",
   "id": "3fd92fb5-465d-4e49-a13c-0b215c44a244",
   "metadata": {},
   "source": [
    "#### Geometric Mean"
   ]
  },
  {
   "cell_type": "code",
   "execution_count": 286,
   "id": "cd66e473-0662-4a10-8005-564bd234f91b",
   "metadata": {},
   "outputs": [
    {
     "name": "stdout",
     "output_type": "stream",
     "text": [
      "86.8920741755402\n"
     ]
    }
   ],
   "source": [
    "geometric_mean = gmean(df.loc[:,'Diastolic Blood Pressure(mm Hg)'])\n",
    "\n",
    "print(geometric_mean) "
   ]
  },
  {
   "cell_type": "markdown",
   "id": "cef8c4d7-9bea-4a84-84c4-4780c3bc2d5c",
   "metadata": {},
   "source": [
    "#### 80th Percentile"
   ]
  },
  {
   "cell_type": "code",
   "execution_count": 287,
   "id": "5c2f67c9-69cb-43cf-8fcf-33148300158b",
   "metadata": {},
   "outputs": [
    {
     "name": "stdout",
     "output_type": "stream",
     "text": [
      "94.0\n"
     ]
    }
   ],
   "source": [
    "Q80 = df['Diastolic Blood Pressure(mm Hg)'].quantile(0.80)\n",
    "\n",
    "print(Q80)"
   ]
  },
  {
   "cell_type": "markdown",
   "id": "6edc7726-5bec-4b3d-a36b-d86093586755",
   "metadata": {},
   "source": [
    "#### Lowest Value"
   ]
  },
  {
   "cell_type": "code",
   "execution_count": 288,
   "id": "141b1691-b798-4541-85f7-d7c20e093c18",
   "metadata": {},
   "outputs": [
    {
     "data": {
      "text/plain": [
       "9"
      ]
     },
     "execution_count": 288,
     "metadata": {},
     "output_type": "execute_result"
    }
   ],
   "source": [
    "df['Diastolic Blood Pressure(mm Hg)'].min()"
   ]
  },
  {
   "cell_type": "markdown",
   "id": "36d268c5-f554-4da8-a740-b3a63644595f",
   "metadata": {},
   "source": [
    "#### Largest Value"
   ]
  },
  {
   "cell_type": "code",
   "execution_count": 289,
   "id": "2e393fbd-12cf-428c-a478-fbdd5f37200d",
   "metadata": {},
   "outputs": [
    {
     "data": {
      "text/plain": [
       "142"
      ]
     },
     "execution_count": 289,
     "metadata": {},
     "output_type": "execute_result"
    }
   ],
   "source": [
    "df['Diastolic Blood Pressure(mm Hg)'].max()"
   ]
  },
  {
   "cell_type": "markdown",
   "id": "d2383c5d-c789-4667-9af1-0e56fd832c85",
   "metadata": {},
   "source": [
    "#### Range"
   ]
  },
  {
   "cell_type": "code",
   "execution_count": 290,
   "id": "a3a19439-4c53-4f16-9595-25a5953e2dc5",
   "metadata": {},
   "outputs": [
    {
     "data": {
      "text/plain": [
       "133"
      ]
     },
     "execution_count": 290,
     "metadata": {},
     "output_type": "execute_result"
    }
   ],
   "source": [
    "df['Diastolic Blood Pressure(mm Hg)'].max() - df['Diastolic Blood Pressure(mm Hg)'].min()"
   ]
  },
  {
   "cell_type": "markdown",
   "id": "8daa8690-1c41-4c92-a97d-00f4c1fc6281",
   "metadata": {},
   "source": [
    "#### Variance"
   ]
  },
  {
   "cell_type": "code",
   "execution_count": 291,
   "id": "f6f600ea-398f-42bd-85c4-5aa4ed8f250f",
   "metadata": {},
   "outputs": [
    {
     "data": {
      "text/plain": [
       "60.73239708397095"
      ]
     },
     "execution_count": 291,
     "metadata": {},
     "output_type": "execute_result"
    }
   ],
   "source": [
    "df['Diastolic Blood Pressure(mm Hg)'].var()"
   ]
  },
  {
   "cell_type": "markdown",
   "id": "7597a463-837a-488c-ba2f-c5a703ef8446",
   "metadata": {},
   "source": [
    "#### Standard Deviation"
   ]
  },
  {
   "cell_type": "code",
   "execution_count": 292,
   "id": "2539f0f4-96d3-466a-8cbe-b84d9d0d8c61",
   "metadata": {},
   "outputs": [
    {
     "name": "stdout",
     "output_type": "stream",
     "text": [
      "7.7930993246571\n"
     ]
    }
   ],
   "source": [
    "std_dev = df['Diastolic Blood Pressure(mm Hg)'].std()\n",
    "\n",
    "print(std_dev)"
   ]
  },
  {
   "cell_type": "markdown",
   "id": "b2664b0c-0613-4ac7-ba19-e8fa82eb389d",
   "metadata": {},
   "source": [
    "#### Coefficient of Variation"
   ]
  },
  {
   "cell_type": "code",
   "execution_count": 293,
   "id": "175b3eea-554f-4f4f-a787-9e82fa2f9c07",
   "metadata": {},
   "outputs": [
    {
     "name": "stdout",
     "output_type": "stream",
     "text": [
      "0.0893114326781294\n"
     ]
    }
   ],
   "source": [
    "cv = (std_dev / mean)\n",
    "\n",
    "print(cv)"
   ]
  },
  {
   "cell_type": "markdown",
   "id": "ec7be69a-cdac-4c8a-8d4e-f333ccc595d6",
   "metadata": {},
   "source": [
    "#### First Quartile / 25th Percentile"
   ]
  },
  {
   "cell_type": "code",
   "execution_count": 294,
   "id": "52d641e4-bffd-4c6b-94d1-a73e5af62709",
   "metadata": {},
   "outputs": [
    {
     "name": "stdout",
     "output_type": "stream",
     "text": [
      "82.0\n"
     ]
    }
   ],
   "source": [
    "Q1 = df['Diastolic Blood Pressure(mm Hg)'].quantile(0.25)\n",
    "\n",
    "print(Q1)"
   ]
  },
  {
   "cell_type": "markdown",
   "id": "ed3f6ee3-c332-4463-aa15-e97c9eeb3fed",
   "metadata": {},
   "source": [
    "#### Second Quartile / 50th Percentile"
   ]
  },
  {
   "cell_type": "code",
   "execution_count": 295,
   "id": "84ef354f-fcd4-4f43-acb9-6029dbbf1865",
   "metadata": {},
   "outputs": [
    {
     "name": "stdout",
     "output_type": "stream",
     "text": [
      "87.0\n"
     ]
    }
   ],
   "source": [
    "Q2 = df['Diastolic Blood Pressure(mm Hg)'].quantile(0.50)\n",
    "\n",
    "print(Q2)"
   ]
  },
  {
   "cell_type": "markdown",
   "id": "2d34ebc2-dbb4-4acd-8f38-a501ba1a6c9d",
   "metadata": {},
   "source": [
    "#### Third Quartile / 75th Percentile"
   ]
  },
  {
   "cell_type": "code",
   "execution_count": 296,
   "id": "0f82c6f9-db71-4e7b-989b-ffe82c0bc83d",
   "metadata": {},
   "outputs": [
    {
     "name": "stdout",
     "output_type": "stream",
     "text": [
      "92.0\n"
     ]
    }
   ],
   "source": [
    "Q3 = df['Diastolic Blood Pressure(mm Hg)'].quantile(0.75)\n",
    "print(Q3)"
   ]
  },
  {
   "cell_type": "markdown",
   "id": "d66ec548-f77e-45c7-861a-cc2f66a2f673",
   "metadata": {},
   "source": [
    "#### Interquartile Range"
   ]
  },
  {
   "cell_type": "code",
   "execution_count": 297,
   "id": "3e833d9c-20fc-4d5b-bd68-4fd47aeaf2a5",
   "metadata": {},
   "outputs": [
    {
     "name": "stdout",
     "output_type": "stream",
     "text": [
      "10.0\n"
     ]
    }
   ],
   "source": [
    "IQR = Q3 - Q1\n",
    "print(IQR)"
   ]
  },
  {
   "cell_type": "markdown",
   "id": "7211f3ca-e3aa-40b0-84e0-992e721b2d33",
   "metadata": {},
   "source": [
    "#### Box plot"
   ]
  },
  {
   "cell_type": "code",
   "execution_count": 298,
   "id": "6b50c9c7-ebc3-4954-91fa-f6a50fb1e992",
   "metadata": {},
   "outputs": [
    {
     "data": {
      "image/png": "[encoded data removed]",
      "text/plain": [
       "<Figure size 640x480 with 1 Axes>"
      ]
     },
     "metadata": {},
     "output_type": "display_data"
    }
   ],
   "source": [
    "plt.boxplot(df['Diastolic Blood Pressure(mm Hg)'])\n",
    "\n",
    "plt.show()"
   ]
  },
  {
   "cell_type": "markdown",
   "id": "52841a49-76bc-4264-9fee-d8953d305855",
   "metadata": {},
   "source": [
    "#### Distribution Shape - Histogram"
   ]
  },
  {
   "cell_type": "code",
   "execution_count": 299,
   "id": "d493f339-3009-447e-963f-ef8c099363dc",
   "metadata": {},
   "outputs": [
    {
     "data": {
      "image/png": "[encoded data removed]",
      "text/plain": [
       "<Figure size 640x480 with 1 Axes>"
      ]
     },
     "metadata": {},
     "output_type": "display_data"
    }
   ],
   "source": [
    "plt.hist(df['Diastolic Blood Pressure(mm Hg)'],bins=8,color='skyblue', edgecolor='black')\n",
    "plt.xlabel('Diastolic Blood Pressure Ranges')\n",
    "plt.ylabel('Frequency')\n",
    "plt.title('Diastolic Blood Pressure readings (mm Hg) of Woman')\n",
    "\n",
    "plt.show()"
   ]
  },
  {
   "cell_type": "markdown",
   "id": "ee260b49-bb3a-48e8-894e-0b3009665018",
   "metadata": {},
   "source": [
    "#### Skewness"
   ]
  },
  {
   "cell_type": "code",
   "execution_count": 300,
   "id": "42c4d177-0f61-44e4-b9c9-4f9e52753cca",
   "metadata": {},
   "outputs": [
    {
     "data": {
      "text/plain": [
       "-0.07750339050456886"
      ]
     },
     "execution_count": 300,
     "metadata": {},
     "output_type": "execute_result"
    }
   ],
   "source": [
    "df['Diastolic Blood Pressure(mm Hg)'].skew()"
   ]
  },
  {
   "cell_type": "markdown",
   "id": "96503341-d15b-4453-b544-9122d57b78a7",
   "metadata": {},
   "source": [
    "#### Z-Scores"
   ]
  },
  {
   "cell_type": "code",
   "execution_count": 301,
   "id": "154d3f67-26f5-4387-8e64-87c86dd9e0b9",
   "metadata": {},
   "outputs": [
    {
     "name": "stdout",
     "output_type": "stream",
     "text": [
      "0      -2.856296\n",
      "1      -2.727967\n",
      "2      -1.316346\n",
      "3      -1.059688\n",
      "4      -0.931359\n",
      "          ...   \n",
      "6098   -2.599638\n",
      "6099   -0.803030\n",
      "6100    0.095274\n",
      "6101    1.635224\n",
      "6102    7.025049\n",
      "Name: Diastolic Blood Pressure(mm Hg), Length: 6103, dtype: float64\n"
     ]
    }
   ],
   "source": [
    "z_scores = stats.zscore(df['Diastolic Blood Pressure(mm Hg)'])\n",
    "\n",
    "print(z_scores)"
   ]
  },
  {
   "cell_type": "markdown",
   "id": "b3462c6d-5e6a-412e-8497-14232e1b4d23",
   "metadata": {},
   "source": [
    "#### Emperical Rule"
   ]
  },
  {
   "cell_type": "code",
   "execution_count": 302,
   "id": "7d9ed436-aa60-4e88-9449-42c7ecca4b68",
   "metadata": {},
   "outputs": [
    {
     "name": "stdout",
     "output_type": "stream",
     "text": [
      "68% fall between:  79.46447891555263 and 95.05067756486685\n",
      "95% fall between:  71.67137959089554 and 102.84377688952394\n",
      "99.7% fall between:  63.878280266238434 and 110.63687621418104\n"
     ]
    }
   ],
   "source": [
    "sd_68_low = (mean - std_dev)\n",
    "sd_68_high =  (mean + std_dev)\n",
    "print(\"68% fall between: \", sd_68_low, \"and\", sd_68_high)\n",
    "\n",
    "sd_95_low = (mean - 2*std_dev)\n",
    "sd_95_high =  (mean + 2*std_dev)\n",
    "print(\"95% fall between: \", sd_95_low, \"and\", sd_95_high)\n",
    "\n",
    "sd_99_low = (mean - 3*std_dev)\n",
    "sd_99_high = (mean + 3*std_dev)\n",
    "print(\"99.7% fall between: \", sd_99_low, \"and\", sd_99_high)"
   ]
  },
  {
   "cell_type": "markdown",
   "id": "f3ca403d-5006-4254-9cd6-dbc504103a2c",
   "metadata": {},
   "source": [
    "#### Emperical Rule Plot"
   ]
  },
  {
   "cell_type": "code",
   "execution_count": 303,
   "id": "f7479707-ab40-4dfe-808d-6e9c1dc39ce1",
   "metadata": {},
   "outputs": [
    {
     "data": {
      "image/png": "[encoded data removed]",
      "text/plain": [
       "<Figure size 640x480 with 1 Axes>"
      ]
     },
     "metadata": {},
     "output_type": "display_data"
    }
   ],
   "source": [
    "plt.hist(df['Diastolic Blood Pressure(mm Hg)'])\n",
    "\n",
    "# Plot the mean and standard deviations\n",
    "plt.axvline(mean, color='r', linestyle='dashed', linewidth=1, label='Mean')\n",
    "plt.axvline(mean - std_dev, color='g', linestyle='dashed', linewidth=1, label='1 STD')\n",
    "plt.axvline(mean + std_dev, color='g', linestyle='dashed', linewidth=1)\n",
    "plt.axvline(mean - 2*std_dev, color='b', linestyle='dashed', linewidth=1, label='2 STD')\n",
    "plt.axvline(mean + 2*std_dev, color='b', linestyle='dashed', linewidth=1)\n",
    "plt.axvline(mean - 3*std_dev, color='m', linestyle='dashed', linewidth=1, label='3 STD')\n",
    "plt.axvline(mean + 3*std_dev, color='m', linestyle='dashed', linewidth=1)\n",
    "\n",
    "plt.legend()\n",
    "plt.xlabel('Diastolic Blood Pressure of women')\n",
    "plt.ylabel('Density')\n",
    "plt.title('Histogram of Diastolic Blood Pressure(mm Hg) of woman')\n",
    "plt.show()"
   ]
  },
  {
   "cell_type": "markdown",
   "id": "b60a38ca-cc87-49e4-884a-0ded5cd15885",
   "metadata": {},
   "source": [
    "#### Chebyshevs Theorem"
   ]
  },
  {
   "cell_type": "markdown",
   "id": "27b044f7-ab6a-4945-8a69-21c42d8d7bbd",
   "metadata": {},
   "source": [
    "Using Chebshevs theorem to find the proportion of observations I would expect to find within k standard deviations from the mean. The formula that can be used is:"
   ]
  },
  {
   "cell_type": "code",
   "execution_count": 432,
   "id": "e153bb7b-bc82-4e39-9190-08eaebaf29a7",
   "metadata": {},
   "outputs": [],
   "source": [
    "def chebyshev_probability(k):\n",
    "    return 1 -(1 / (k ** 2))"
   ]
  },
  {
   "cell_type": "code",
   "execution_count": 433,
   "id": "96547c9e-ac9f-4856-9cbf-f86f58f59562",
   "metadata": {},
   "outputs": [
    {
     "name": "stdout",
     "output_type": "stream",
     "text": [
      "75.0 % of the values fall between:  40.84559552646039 and 131.35594469965793\n"
     ]
    }
   ],
   "source": [
    "k = 2\n",
    "formula = chebyshev_probability(k) * 100\n",
    "lower_bound = mean - k * std_dev\n",
    "upper_bound = mean + k * std_dev\n",
    "\n",
    "print(formula,\"% of the values fall between: \", lower_bound, \"and\", upper_bound)"
   ]
  },
  {
   "cell_type": "markdown",
   "id": "a074757a-c414-4bd6-aa9e-0972c913300a",
   "metadata": {},
   "source": [
    "#### Association Between Two Variables"
   ]
  },
  {
   "cell_type": "code",
   "execution_count": 306,
   "id": "89357209-d2bb-4ebd-a2eb-c9cc5ef23d76",
   "metadata": {},
   "outputs": [
    {
     "name": "stdout",
     "output_type": "stream",
     "text": [
      "Covariance between Age and Diastolic Blood Pressure: 7.8306779988435125\n",
      "Correlation Coefficient between Age and Diastolic Blood Pressure: 0.1758736746349552\n"
     ]
    }
   ],
   "source": [
    "x = df['Age'] # Variable 1\n",
    "y = df['Diastolic Blood Pressure(mm Hg)'] # Variable 2\n",
    "\n",
    "\n",
    "covariance = np.cov(x, y)[0, 1]\n",
    "print(\"Covariance between Age and Diastolic Blood Pressure:\", covariance)\n",
    "\n",
    "correlation_coefficient = np.corrcoef(x, y)[0, 1]\n",
    "print(\"Correlation Coefficient between Age and Diastolic Blood Pressure:\", correlation_coefficient)"
   ]
  },
  {
   "cell_type": "markdown",
   "id": "8027304d-a6e3-4205-8e6a-2f587f6b0703",
   "metadata": {},
   "source": [
    "#### Diastolic Blood Pressure Rate Analysis\n",
    "\n",
    "- A normal diastolic blood pressure rate for pregnant women is generally considered to be below 80mmHg.\n",
    "- The mean which is 87.26 shows us that the average women’s diastolic blood pressure is slightly elevated.\n",
    "- The mode which is 80 shows us that it is most common for a woman to have a normal diastolic blood pressure.\n",
    "- Woman between the 1st and 3rd Quartile have slightly elevated diastolic blood pressure readings.\n",
    "- We see there is a woman whose diastolic blood pressure reading is the highest at 142 which is much too high.  A diastolic reading consistently above 80mmHg in the later part of the third trimester could be a sign of gestational hypertension or preeclampsia, which requires close monitoring by a healthcare provider.\n",
    "- We see there is a woman diastolic blood pressure reading is the lowest at 9 which is much too low. She would be an ideal candidate for medical intervention in this regard.\n",
    "- Skewness of the data is a negative value of - 0.08  therefore we can note the mean (87.26) is supposed to be less than the median (87) but this is not the case.\n",
    "- The covariance between a women’s age and her diastolic blood pressure reading is a positive one (7.83). Therefore, if an increase in age occurs it results in an increase in the diastolic blood pressure reading as well.\n",
    "- The correlation coefficient between a women’s age and her diastolic blood pressure reading is a positive one (0.18) however 0.18 is low and therefore there is little to no correlation between the two factors."
   ]
  },
  {
   "cell_type": "markdown",
   "id": "0a5c925d-219a-4d83-b5ea-dbac174c8f96",
   "metadata": {},
   "source": [
    "## 4. Systolic Blood Pressure (mm Hg)"
   ]
  },
  {
   "cell_type": "markdown",
   "id": "db8e6327-a9d1-43c6-a143-d9b4fc3946cd",
   "metadata": {},
   "source": [
    "#### Sum"
   ]
  },
  {
   "cell_type": "code",
   "execution_count": 307,
   "id": "0f3c99c4-84ba-43bd-a504-9dadfe19e866",
   "metadata": {},
   "outputs": [
    {
     "name": "stdout",
     "output_type": "stream",
     "text": [
      "788619\n"
     ]
    }
   ],
   "source": [
    "sum = df['Systolic Blood Pressure(mm Hg)'].sum()\n",
    "\n",
    "print(sum)"
   ]
  },
  {
   "cell_type": "markdown",
   "id": "eeaab5de-7601-4592-b931-2cb5c11624ae",
   "metadata": {},
   "source": [
    "#### Mean"
   ]
  },
  {
   "cell_type": "code",
   "execution_count": 308,
   "id": "b503d165-16af-4c84-9829-1ab4a408fb30",
   "metadata": {},
   "outputs": [
    {
     "name": "stdout",
     "output_type": "stream",
     "text": [
      "129.2182533180403\n"
     ]
    }
   ],
   "source": [
    "mean = df['Systolic Blood Pressure(mm Hg)'].mean()\n",
    "\n",
    "print(mean)"
   ]
  },
  {
   "cell_type": "markdown",
   "id": "0f58bb7c-f35d-40f3-ada9-7c2e155b6977",
   "metadata": {},
   "source": [
    "#### Mode"
   ]
  },
  {
   "cell_type": "code",
   "execution_count": 309,
   "id": "555d13d7-1eb9-4fc9-8214-74122fc16f89",
   "metadata": {},
   "outputs": [
    {
     "name": "stdout",
     "output_type": "stream",
     "text": [
      "0    120\n",
      "Name: Systolic Blood Pressure(mm Hg), dtype: int64\n"
     ]
    }
   ],
   "source": [
    "mode = df['Systolic Blood Pressure(mm Hg)'].mode()\n",
    "\n",
    "print(mode)"
   ]
  },
  {
   "cell_type": "markdown",
   "id": "500782f7-0b9a-4cd0-b19f-96652e309371",
   "metadata": {},
   "source": [
    "#### Median"
   ]
  },
  {
   "cell_type": "code",
   "execution_count": 310,
   "id": "663b8d56-2b76-4dd9-91f4-df6e6879e6eb",
   "metadata": {},
   "outputs": [
    {
     "name": "stdout",
     "output_type": "stream",
     "text": [
      "128.0\n"
     ]
    }
   ],
   "source": [
    "median = df['Systolic Blood Pressure(mm Hg)'].median()\n",
    "\n",
    "print(median)"
   ]
  },
  {
   "cell_type": "markdown",
   "id": "f43ccb21-90f6-416a-b81f-dc9db2af08c5",
   "metadata": {},
   "source": [
    "#### Geometric Mean"
   ]
  },
  {
   "cell_type": "code",
   "execution_count": 311,
   "id": "e1dfbac5-073f-42a9-9a7b-ec99dde83bda",
   "metadata": {},
   "outputs": [
    {
     "name": "stdout",
     "output_type": "stream",
     "text": [
      "128.07195460995288\n"
     ]
    }
   ],
   "source": [
    "geometric_mean = gmean(df.loc[:,'Systolic Blood Pressure(mm Hg)'])\n",
    "\n",
    "print(geometric_mean)"
   ]
  },
  {
   "cell_type": "markdown",
   "id": "b7a1dbd6-ebc7-4ef8-94a8-2af4879889ce",
   "metadata": {},
   "source": [
    "#### 80th Percentile"
   ]
  },
  {
   "cell_type": "code",
   "execution_count": 312,
   "id": "f114caa5-ae5f-407a-9d1d-fcb2db8bd544",
   "metadata": {},
   "outputs": [
    {
     "name": "stdout",
     "output_type": "stream",
     "text": [
      "143.0\n"
     ]
    }
   ],
   "source": [
    "Q80 = df['Systolic Blood Pressure(mm Hg)'].quantile(0.80)\n",
    "\n",
    "print(Q80)"
   ]
  },
  {
   "cell_type": "markdown",
   "id": "2c7e3c3a-3f88-4db9-9cfd-a51effc649d1",
   "metadata": {},
   "source": [
    "#### Lowest Value"
   ]
  },
  {
   "cell_type": "code",
   "execution_count": 313,
   "id": "b6141b9d-f6f8-4024-bbca-74cedcac90de",
   "metadata": {},
   "outputs": [
    {
     "data": {
      "text/plain": [
       "90"
      ]
     },
     "execution_count": 313,
     "metadata": {},
     "output_type": "execute_result"
    }
   ],
   "source": [
    "df['Systolic Blood Pressure(mm Hg)'].min()"
   ]
  },
  {
   "cell_type": "markdown",
   "id": "4ef5fb87-d029-4e05-87f2-8d268bf50ef3",
   "metadata": {},
   "source": [
    "#### Largest Value"
   ]
  },
  {
   "cell_type": "code",
   "execution_count": 314,
   "id": "7535c4c8-73fd-4651-bd57-4bb6ab713f83",
   "metadata": {},
   "outputs": [
    {
     "data": {
      "text/plain": [
       "169"
      ]
     },
     "execution_count": 314,
     "metadata": {},
     "output_type": "execute_result"
    }
   ],
   "source": [
    "df['Systolic Blood Pressure(mm Hg)'].max()"
   ]
  },
  {
   "cell_type": "markdown",
   "id": "ead5aebf-2dd6-4504-af87-2f3a7e979f40",
   "metadata": {},
   "source": [
    "#### Range"
   ]
  },
  {
   "cell_type": "code",
   "execution_count": 315,
   "id": "31100f45-2402-4b82-b093-46a7e6351d64",
   "metadata": {},
   "outputs": [
    {
     "data": {
      "text/plain": [
       "79"
      ]
     },
     "execution_count": 315,
     "metadata": {},
     "output_type": "execute_result"
    }
   ],
   "source": [
    "df['Systolic Blood Pressure(mm Hg)'].max() - df['Systolic Blood Pressure(mm Hg)'].min()"
   ]
  },
  {
   "cell_type": "markdown",
   "id": "e79a491e-1585-4ec7-91eb-5f3a7f35c2c5",
   "metadata": {},
   "source": [
    "#### Variance"
   ]
  },
  {
   "cell_type": "code",
   "execution_count": 316,
   "id": "fdfbfd53-6e5a-4d52-b420-b50d3d927ca3",
   "metadata": {},
   "outputs": [
    {
     "data": {
      "text/plain": [
       "297.01823772211793"
      ]
     },
     "execution_count": 316,
     "metadata": {},
     "output_type": "execute_result"
    }
   ],
   "source": [
    "df['Systolic Blood Pressure(mm Hg)'].var()"
   ]
  },
  {
   "cell_type": "markdown",
   "id": "571fc11b-4eab-4fd8-b313-bfacd0fcaaeb",
   "metadata": {},
   "source": [
    "#### Standard Deviation"
   ]
  },
  {
   "cell_type": "code",
   "execution_count": 317,
   "id": "ee274560-eac6-4d4a-912c-389871638200",
   "metadata": {},
   "outputs": [
    {
     "name": "stdout",
     "output_type": "stream",
     "text": [
      "17.234217061477377\n"
     ]
    }
   ],
   "source": [
    "std_dev = df['Systolic Blood Pressure(mm Hg)'].std()\n",
    "\n",
    "print(std_dev)"
   ]
  },
  {
   "cell_type": "markdown",
   "id": "c26259b7-839c-408c-811a-1237677f9845",
   "metadata": {},
   "source": [
    "#### Coefficient of Variation"
   ]
  },
  {
   "cell_type": "code",
   "execution_count": 318,
   "id": "d46ef26c-5772-4c4c-8230-882bb5343ea6",
   "metadata": {},
   "outputs": [
    {
     "name": "stdout",
     "output_type": "stream",
     "text": [
      "0.1333729300539252\n"
     ]
    }
   ],
   "source": [
    "cv = (std_dev / mean)\n",
    "\n",
    "print(cv)"
   ]
  },
  {
   "cell_type": "markdown",
   "id": "b807a918-d8ad-48e6-996c-814e256fb457",
   "metadata": {},
   "source": [
    "#### First Quartile / 25th Percentile"
   ]
  },
  {
   "cell_type": "code",
   "execution_count": 319,
   "id": "e95ab783-246d-469d-b293-d51bfb9b4783",
   "metadata": {},
   "outputs": [
    {
     "name": "stdout",
     "output_type": "stream",
     "text": [
      "120.0\n"
     ]
    }
   ],
   "source": [
    "Q1 = df['Systolic Blood Pressure(mm Hg)'].quantile(0.25)\n",
    "\n",
    "print(Q1)"
   ]
  },
  {
   "cell_type": "markdown",
   "id": "f51cd473-e7cb-4c99-bc56-3b7872b4a57d",
   "metadata": {},
   "source": [
    "#### Second Quartile / 50th Percentile"
   ]
  },
  {
   "cell_type": "code",
   "execution_count": 320,
   "id": "cfa97955-8930-4072-a29b-a0668eacd579",
   "metadata": {},
   "outputs": [
    {
     "name": "stdout",
     "output_type": "stream",
     "text": [
      "128.0\n"
     ]
    }
   ],
   "source": [
    "Q2 = df['Systolic Blood Pressure(mm Hg)'].quantile(0.50)\n",
    "print(Q2)"
   ]
  },
  {
   "cell_type": "markdown",
   "id": "47fdb0e9-d766-4fd7-8f17-70770d882d6c",
   "metadata": {},
   "source": [
    "#### Third Quartile / 75th Percentile"
   ]
  },
  {
   "cell_type": "code",
   "execution_count": 321,
   "id": "de1a2e5a-19bf-4dad-9263-d6f4131a134b",
   "metadata": {},
   "outputs": [
    {
     "name": "stdout",
     "output_type": "stream",
     "text": [
      "141.0\n"
     ]
    }
   ],
   "source": [
    "Q3 = df['Systolic Blood Pressure(mm Hg)'].quantile(0.75)\n",
    "print(Q3)"
   ]
  },
  {
   "cell_type": "markdown",
   "id": "d0940bae-76e0-490a-ace4-69ba9809f740",
   "metadata": {},
   "source": [
    "#### Interquartile Range"
   ]
  },
  {
   "cell_type": "code",
   "execution_count": 322,
   "id": "2f15f3de-3b48-4a5c-a589-456d03a3053f",
   "metadata": {},
   "outputs": [
    {
     "name": "stdout",
     "output_type": "stream",
     "text": [
      "21.0\n"
     ]
    }
   ],
   "source": [
    "IQR = Q3 - Q1\n",
    "print(IQR)"
   ]
  },
  {
   "cell_type": "markdown",
   "id": "05a30196-3d05-4b9f-b49d-59e49ba0dd04",
   "metadata": {},
   "source": [
    "#### Box plot"
   ]
  },
  {
   "cell_type": "code",
   "execution_count": 323,
   "id": "b4a8c3cf-7f71-40f4-87d6-62648af488e8",
   "metadata": {},
   "outputs": [
    {
     "data": {
      "image/png": "[encoded data removed]",
      "text/plain": [
       "<Figure size 640x480 with 1 Axes>"
      ]
     },
     "metadata": {},
     "output_type": "display_data"
    }
   ],
   "source": [
    "plt.boxplot(df['Systolic Blood Pressure(mm Hg)'])\n",
    "\n",
    "plt.show()"
   ]
  },
  {
   "cell_type": "markdown",
   "id": "a20c484a-350a-40cf-b022-25c38518ed2f",
   "metadata": {},
   "source": [
    "#### Distribution Shape - Histogram"
   ]
  },
  {
   "cell_type": "code",
   "execution_count": 324,
   "id": "ef007998-da7a-4af5-beb7-24779a879bca",
   "metadata": {},
   "outputs": [
    {
     "data": {
      "image/png": "[encoded data removed]",
      "text/plain": [
       "<Figure size 640x480 with 1 Axes>"
      ]
     },
     "metadata": {},
     "output_type": "display_data"
    }
   ],
   "source": [
    "plt.hist(df['Systolic Blood Pressure(mm Hg)'],bins=8,color='skyblue', edgecolor='black')\n",
    "plt.xlabel('Systolic Blood Pressure(mm Hg) Ranges')\n",
    "plt.ylabel('Frequency')\n",
    "plt.title('Systolic Blood Pressure(mm Hg) of Woman')\n",
    "\n",
    "plt.show()"
   ]
  },
  {
   "cell_type": "markdown",
   "id": "ab5b8bb3-7d4f-475d-9b28-1e182b00df6e",
   "metadata": {},
   "source": [
    "#### Skewness"
   ]
  },
  {
   "cell_type": "code",
   "execution_count": 325,
   "id": "937140c0-aa67-4f8c-b75b-70aa911f139c",
   "metadata": {},
   "outputs": [
    {
     "data": {
      "text/plain": [
       "0.21853378256386924"
      ]
     },
     "execution_count": 325,
     "metadata": {},
     "output_type": "execute_result"
    }
   ],
   "source": [
    "df['Systolic Blood Pressure(mm Hg)'].skew()"
   ]
  },
  {
   "cell_type": "markdown",
   "id": "18f3e625-8c6a-4efd-a12b-e4c73b3899b1",
   "metadata": {},
   "source": [
    "#### Z-Scores"
   ]
  },
  {
   "cell_type": "code",
   "execution_count": 326,
   "id": "f3917154-0de4-444d-a21c-37bd00dd80bd",
   "metadata": {},
   "outputs": [
    {
     "name": "stdout",
     "output_type": "stream",
     "text": [
      "0       0.857768\n",
      "1       0.973826\n",
      "2      -0.767040\n",
      "3      -1.173242\n",
      "4      -1.115213\n",
      "          ...   \n",
      "6098   -0.476896\n",
      "6099   -0.534925\n",
      "6100    1.438056\n",
      "6101   -0.476896\n",
      "6102    0.161422\n",
      "Name: Systolic Blood Pressure(mm Hg), Length: 6103, dtype: float64\n"
     ]
    }
   ],
   "source": [
    "z_scores = stats.zscore(df['Systolic Blood Pressure(mm Hg)'])\n",
    "\n",
    "print(z_scores)"
   ]
  },
  {
   "cell_type": "markdown",
   "id": "4ad4ff80-ac47-4f77-b038-d1d226e260af",
   "metadata": {},
   "source": [
    "#### Emperical Rule"
   ]
  },
  {
   "cell_type": "code",
   "execution_count": 327,
   "id": "30a35275-434e-4ed5-bf27-47b50f776cf0",
   "metadata": {},
   "outputs": [
    {
     "name": "stdout",
     "output_type": "stream",
     "text": [
      "68% fall between:  111.98403625656292 and 146.45247037951768\n",
      "95% fall between:  94.74981919508554 and 163.68668744099506\n",
      "99.7% fall between:  77.51560213360817 and 180.9209045024724\n"
     ]
    }
   ],
   "source": [
    "sd_68_low = (mean - std_dev)\n",
    "sd_68_high =  (mean + std_dev)\n",
    "print(\"68% fall between: \", sd_68_low, \"and\", sd_68_high)\n",
    "\n",
    "sd_95_low = (mean - 2*std_dev)\n",
    "sd_95_high =  (mean + 2*std_dev)\n",
    "print(\"95% fall between: \", sd_95_low, \"and\", sd_95_high)\n",
    "\n",
    "sd_99_low = (mean - 3*std_dev)\n",
    "sd_99_high = (mean + 3*std_dev)\n",
    "print(\"99.7% fall between: \", sd_99_low, \"and\", sd_99_high)"
   ]
  },
  {
   "cell_type": "markdown",
   "id": "477ceff2-98bc-49a2-ac9c-db92868a0f5e",
   "metadata": {},
   "source": [
    "#### Emperical Rule Plot"
   ]
  },
  {
   "cell_type": "code",
   "execution_count": 328,
   "id": "3c3641c6-d804-45b5-b838-abc1772487b3",
   "metadata": {},
   "outputs": [
    {
     "data": {
      "image/png": "[encoded data removed]",
      "text/plain": [
       "<Figure size 640x480 with 1 Axes>"
      ]
     },
     "metadata": {},
     "output_type": "display_data"
    }
   ],
   "source": [
    "plt.hist(df['Systolic Blood Pressure(mm Hg)'])\n",
    "\n",
    "# Plot the mean and standard deviations\n",
    "plt.axvline(mean, color='r', linestyle='dashed', linewidth=1, label='Mean')\n",
    "plt.axvline(mean - std_dev, color='g', linestyle='dashed', linewidth=1, label='1 STD')\n",
    "plt.axvline(mean + std_dev, color='g', linestyle='dashed', linewidth=1)\n",
    "plt.axvline(mean - 2*std_dev, color='b', linestyle='dashed', linewidth=1, label='2 STD')\n",
    "plt.axvline(mean + 2*std_dev, color='b', linestyle='dashed', linewidth=1)\n",
    "plt.axvline(mean - 3*std_dev, color='m', linestyle='dashed', linewidth=1, label='3 STD')\n",
    "plt.axvline(mean + 3*std_dev, color='m', linestyle='dashed', linewidth=1)\n",
    "\n",
    "plt.legend()\n",
    "plt.xlabel('Systolic Blood Pressure(mm Hg) of woman')\n",
    "plt.ylabel('Density')\n",
    "plt.title('Histogram of Systolic Blood Pressure(mm Hg) of woman')\n",
    "plt.show()"
   ]
  },
  {
   "cell_type": "markdown",
   "id": "616ae51f-ff7c-4de1-bb17-b727590d7aae",
   "metadata": {},
   "source": [
    "#### Chebyshevs Theorem"
   ]
  },
  {
   "cell_type": "markdown",
   "id": "205305ed-caad-43df-80bb-71f517d4f6f3",
   "metadata": {},
   "source": [
    "Using Chebshevs theorem to find the proportion of observations I would expect to find within k standard deviations from the mean. The formula that can be used is:"
   ]
  },
  {
   "cell_type": "code",
   "execution_count": 330,
   "id": "64db9fef-3242-43ea-83a3-95b77d3fa14c",
   "metadata": {},
   "outputs": [
    {
     "name": "stdout",
     "output_type": "stream",
     "text": [
      "Probability according to Chebyshev's inequality using 2 standard deviations: 0.25\n"
     ]
    }
   ],
   "source": [
    "def chebyshev_probability(k):\n",
    "    return 1 -(1 / (k ** 2))"
   ]
  },
  {
   "cell_type": "code",
   "execution_count": null,
   "id": "c483426d-8d0e-4517-9861-7383127a16ef",
   "metadata": {},
   "outputs": [],
   "source": [
    "k = 2\n",
    "formula = chebyshev_probability(k) * 100\n",
    "lower_bound = mean - k * std_dev\n",
    "upper_bound = mean + k * std_dev\n",
    "\n",
    "print(formula,\"% of the values fall between: \", lower_bound, \"and\", upper_bound)"
   ]
  },
  {
   "cell_type": "markdown",
   "id": "b94f4f9c-0806-4ee0-9097-1b979b543471",
   "metadata": {},
   "source": [
    "#### Association Between Two Variables"
   ]
  },
  {
   "cell_type": "code",
   "execution_count": 332,
   "id": "349fbb15-5e0b-45a3-9340-5640c025364c",
   "metadata": {},
   "outputs": [
    {
     "name": "stdout",
     "output_type": "stream",
     "text": [
      "Covariance between Age and Systolic Blood Pressure: -0.5376994609042098\n",
      "Correlation Coefficient between Age and Systolic Blood Pressure: -0.005460843440548182\n"
     ]
    }
   ],
   "source": [
    "x = df['Age'] # Variable 1\n",
    "y = df['Systolic Blood Pressure(mm Hg)'] # Variable 2\n",
    "\n",
    "\n",
    "covariance = np.cov(x, y)[0, 1]\n",
    "print(\"Covariance between Age and Systolic Blood Pressure:\", covariance)\n",
    "\n",
    "correlation_coefficient = np.corrcoef(x, y)[0, 1]\n",
    "print(\"Correlation Coefficient between Age and Systolic Blood Pressure:\", correlation_coefficient)"
   ]
  },
  {
   "cell_type": "markdown",
   "id": "ff303fa3-f41e-4d7e-8e53-527c62069d09",
   "metadata": {},
   "source": [
    "#### Systolic Blood Pressure Rate Analysis\n",
    "\n",
    "- A normal systolic blood pressure rate for pregnant women is generally considered to be below 120mmHg.\n",
    "- The mean which is 129.22 shows us that the average women’s systolic blood pressure is slightly elevated.\n",
    "- The mode which is 120 shows us that it is most common for a woman to have a normal systolic blood pressure.\n",
    "- Woman between the 1st and 3rd Quartile have slightly elevated systolic blood pressure readings.\n",
    "- We see there is a woman whose systolic blood pressure reading is the highest at 169 which is much too high. She would be an ideal candidate for medical intervention in this regard.\n",
    "- We see there is a woman systolic blood pressure reading is the lowest at 90 which is much too low. She would be an ideal candidate for medical intervention in this regard.\n",
    "- Skewness of the data is a positive value of 0.22 therefore we can note the mean (129.22) is more than the median (120)\n",
    "- The covariance between a women’s age and her systolic blood pressure reading is a negative one (-0.5). Negative covariance indicates an inverse relationship between two variables. This means that when one variable increases, the other variable tends to decrease, and vice versa. Therefore, if an increase in age occurs it results in an decrease in the systolic blood pressure reading as well.\n",
    "- The correlation coefficient between a women’s age and her systolic blood pressure reading is a negative one (-0.01) therefore the stronger the inverse relationship between the variables."
   ]
  },
  {
   "cell_type": "markdown",
   "id": "b9586f53-f44d-4fb3-8f18-0895725392b5",
   "metadata": {},
   "source": [
    "## 5. Blood Glucose(Fasting hour-mg/dl)"
   ]
  },
  {
   "cell_type": "markdown",
   "id": "5c06b87a-534f-46cc-8f6c-901c7a73a501",
   "metadata": {},
   "source": [
    "#### Sum"
   ]
  },
  {
   "cell_type": "code",
   "execution_count": 333,
   "id": "b0aa3e3c-ca5d-49f1-985a-db83df14f17b",
   "metadata": {},
   "outputs": [
    {
     "name": "stdout",
     "output_type": "stream",
     "text": [
      "33595.5\n"
     ]
    }
   ],
   "source": [
    "sum = df['Blood Glucose(Fasting hour-mg/dl)'].sum()\n",
    "\n",
    "print(sum)"
   ]
  },
  {
   "cell_type": "markdown",
   "id": "a91f18a8-2f85-4ff6-9566-179eaa530dab",
   "metadata": {},
   "source": [
    "#### Mean"
   ]
  },
  {
   "cell_type": "code",
   "execution_count": 334,
   "id": "a4542d0f-201c-476e-a125-be80fa405558",
   "metadata": {},
   "outputs": [
    {
     "name": "stdout",
     "output_type": "stream",
     "text": [
      "5.504751761428805\n"
     ]
    }
   ],
   "source": [
    "mean = df['Blood Glucose(Fasting hour-mg/dl)'].mean()\n",
    "\n",
    "print(mean)"
   ]
  },
  {
   "cell_type": "markdown",
   "id": "da19f1d4-9c46-4b03-b47b-f14ca4aa0c21",
   "metadata": {},
   "source": [
    "#### Mode"
   ]
  },
  {
   "cell_type": "code",
   "execution_count": 335,
   "id": "2d46d843-22c9-467a-9178-cb791898e87f",
   "metadata": {},
   "outputs": [
    {
     "name": "stdout",
     "output_type": "stream",
     "text": [
      "0    5.9\n",
      "Name: Blood Glucose(Fasting hour-mg/dl), dtype: float64\n"
     ]
    }
   ],
   "source": [
    "mode = df['Blood Glucose(Fasting hour-mg/dl)'].mode()\n",
    "\n",
    "print(mode)"
   ]
  },
  {
   "cell_type": "markdown",
   "id": "2157e4be-f7c7-42d5-bd95-492d626ef316",
   "metadata": {},
   "source": [
    "#### Median"
   ]
  },
  {
   "cell_type": "code",
   "execution_count": 336,
   "id": "9fd6216f-4c7d-4256-941f-6ad287ecf4d7",
   "metadata": {},
   "outputs": [
    {
     "name": "stdout",
     "output_type": "stream",
     "text": [
      "5.7\n"
     ]
    }
   ],
   "source": [
    "median = df['Blood Glucose(Fasting hour-mg/dl)'].median()\n",
    "\n",
    "print(median)"
   ]
  },
  {
   "cell_type": "markdown",
   "id": "a20a9a4a-cfc8-4fba-9511-11bda9405504",
   "metadata": {},
   "source": [
    "#### Geometric Mean"
   ]
  },
  {
   "cell_type": "code",
   "execution_count": 337,
   "id": "69bb6c31-1939-4c2c-bbca-3d1db0bf5cfe",
   "metadata": {},
   "outputs": [
    {
     "name": "stdout",
     "output_type": "stream",
     "text": [
      "5.427862608695981\n"
     ]
    }
   ],
   "source": [
    "geometric_mean = gmean(df.loc[:,'Blood Glucose(Fasting hour-mg/dl)'])\n",
    "\n",
    "print(geometric_mean)"
   ]
  },
  {
   "cell_type": "markdown",
   "id": "3f0efee4-6382-4ade-ac56-6265c3dcd0ea",
   "metadata": {},
   "source": [
    "#### 80th Percentile"
   ]
  },
  {
   "cell_type": "code",
   "execution_count": 338,
   "id": "1b3e7be7-d056-4cbc-97d1-148ad9425841",
   "metadata": {},
   "outputs": [
    {
     "name": "stdout",
     "output_type": "stream",
     "text": [
      "6.1\n"
     ]
    }
   ],
   "source": [
    "Q80 = df['Blood Glucose(Fasting hour-mg/dl)'].quantile(0.80)\n",
    "\n",
    "print(Q80)"
   ]
  },
  {
   "cell_type": "markdown",
   "id": "d981a011-1f1d-4762-ab22-df677bd2deeb",
   "metadata": {},
   "source": [
    "#### Smallest Value"
   ]
  },
  {
   "cell_type": "code",
   "execution_count": 339,
   "id": "d72b84f6-4731-45fa-8b28-87343ac548d4",
   "metadata": {},
   "outputs": [
    {
     "data": {
      "text/plain": [
       "3.5"
      ]
     },
     "execution_count": 339,
     "metadata": {},
     "output_type": "execute_result"
    }
   ],
   "source": [
    "df['Blood Glucose(Fasting hour-mg/dl)'].min()"
   ]
  },
  {
   "cell_type": "markdown",
   "id": "dfccf37a-30ae-43ec-9757-35ea8c56c448",
   "metadata": {},
   "source": [
    "#### Largest Value"
   ]
  },
  {
   "cell_type": "code",
   "execution_count": 340,
   "id": "27e630dd-f6eb-4121-95a3-f9c3dc2098f4",
   "metadata": {},
   "outputs": [
    {
     "data": {
      "text/plain": [
       "8.9"
      ]
     },
     "execution_count": 340,
     "metadata": {},
     "output_type": "execute_result"
    }
   ],
   "source": [
    "df['Blood Glucose(Fasting hour-mg/dl)'].max()"
   ]
  },
  {
   "cell_type": "markdown",
   "id": "d5cb5ce7-0f28-4610-a20b-9d46bb5448f9",
   "metadata": {},
   "source": [
    "#### Range"
   ]
  },
  {
   "cell_type": "code",
   "execution_count": 341,
   "id": "e5443b19-4291-4f5a-baf3-6c2628ec2c4a",
   "metadata": {},
   "outputs": [
    {
     "data": {
      "text/plain": [
       "5.4"
      ]
     },
     "execution_count": 341,
     "metadata": {},
     "output_type": "execute_result"
    }
   ],
   "source": [
    "df['Blood Glucose(Fasting hour-mg/dl)'].max() - df['Blood Glucose(Fasting hour-mg/dl)'].min()"
   ]
  },
  {
   "cell_type": "markdown",
   "id": "79b55065-7570-437f-a232-6aa0ced66474",
   "metadata": {},
   "source": [
    "#### Variance"
   ]
  },
  {
   "cell_type": "code",
   "execution_count": 342,
   "id": "86b138e2-53e4-42db-9254-31099401f972",
   "metadata": {},
   "outputs": [
    {
     "data": {
      "text/plain": [
       "0.8196168795343476"
      ]
     },
     "execution_count": 342,
     "metadata": {},
     "output_type": "execute_result"
    }
   ],
   "source": [
    "df['Blood Glucose(Fasting hour-mg/dl)'].var()"
   ]
  },
  {
   "cell_type": "markdown",
   "id": "36d5dfd0-e14d-462c-b6d5-dddb0e7be6f7",
   "metadata": {},
   "source": [
    "#### Standard Deviation"
   ]
  },
  {
   "cell_type": "code",
   "execution_count": 343,
   "id": "634257ef-22ca-456b-85c7-19cd2af6319a",
   "metadata": {},
   "outputs": [
    {
     "name": "stdout",
     "output_type": "stream",
     "text": [
      "0.9053269462102338\n"
     ]
    }
   ],
   "source": [
    "std_dev = df['Blood Glucose(Fasting hour-mg/dl)'].std()\n",
    "\n",
    "print(std_dev)"
   ]
  },
  {
   "cell_type": "markdown",
   "id": "3d4a806e-8e3d-4e7d-94e2-8f47677c099e",
   "metadata": {},
   "source": [
    "#### Coefficient of Variation"
   ]
  },
  {
   "cell_type": "code",
   "execution_count": 344,
   "id": "82681a9b-c429-4bf8-a71a-37d033f9690d",
   "metadata": {},
   "outputs": [
    {
     "name": "stdout",
     "output_type": "stream",
     "text": [
      "0.16446281057644796\n"
     ]
    }
   ],
   "source": [
    "cv = (std_dev / mean)\n",
    "\n",
    "print(cv)"
   ]
  },
  {
   "cell_type": "markdown",
   "id": "7df5a3e7-a2a9-40cd-b853-3106507e31fb",
   "metadata": {},
   "source": [
    "#### First Quartile / 25th Percentile"
   ]
  },
  {
   "cell_type": "code",
   "execution_count": 345,
   "id": "58b9090b-2ce4-4759-af29-98427cdcc0a4",
   "metadata": {},
   "outputs": [
    {
     "name": "stdout",
     "output_type": "stream",
     "text": [
      "4.8\n"
     ]
    }
   ],
   "source": [
    "Q1 = df['Blood Glucose(Fasting hour-mg/dl)'].quantile(0.25)\n",
    "\n",
    "print(Q1)"
   ]
  },
  {
   "cell_type": "markdown",
   "id": "db38b14a-55af-4fdc-8608-e6d3817a0ee6",
   "metadata": {},
   "source": [
    "#### Second Quartile / 50th Percentile"
   ]
  },
  {
   "cell_type": "code",
   "execution_count": 346,
   "id": "2b51da26-b16f-4e50-a52e-cf5bc680afc0",
   "metadata": {},
   "outputs": [
    {
     "name": "stdout",
     "output_type": "stream",
     "text": [
      "5.7\n"
     ]
    }
   ],
   "source": [
    "Q2 = df['Blood Glucose(Fasting hour-mg/dl)'].quantile(0.50)\n",
    "\n",
    "print(Q2)"
   ]
  },
  {
   "cell_type": "markdown",
   "id": "d6d539be-d5a5-4abc-b1ab-7f293914d184",
   "metadata": {},
   "source": [
    "#### Third Quartile / 75th Percentile"
   ]
  },
  {
   "cell_type": "code",
   "execution_count": 347,
   "id": "ec801276-ba02-4bc8-85d0-bdc30f9fcce8",
   "metadata": {},
   "outputs": [
    {
     "name": "stdout",
     "output_type": "stream",
     "text": [
      "6.0\n"
     ]
    }
   ],
   "source": [
    "Q3 = df['Blood Glucose(Fasting hour-mg/dl)'].quantile(0.75)\n",
    "\n",
    "print(Q3)"
   ]
  },
  {
   "cell_type": "markdown",
   "id": "ae729c43-d331-4343-87ee-186135a3293e",
   "metadata": {},
   "source": [
    "#### Interquartile Range"
   ]
  },
  {
   "cell_type": "code",
   "execution_count": 348,
   "id": "f6d1bdc8-df98-4780-9dc6-905c62356fea",
   "metadata": {},
   "outputs": [
    {
     "name": "stdout",
     "output_type": "stream",
     "text": [
      "1.2000000000000002\n"
     ]
    }
   ],
   "source": [
    "IQR = Q3 - Q1\n",
    "print(IQR)"
   ]
  },
  {
   "cell_type": "markdown",
   "id": "846be267-5ae5-4adb-b6d3-6e8e12d4f2c5",
   "metadata": {},
   "source": [
    "#### Box plot"
   ]
  },
  {
   "cell_type": "code",
   "execution_count": 349,
   "id": "1fd2b5f1-3951-4382-a082-01ba4e6e4296",
   "metadata": {},
   "outputs": [
    {
     "data": {
      "image/png": "[encoded data removed]",
      "text/plain": [
       "<Figure size 640x480 with 1 Axes>"
      ]
     },
     "metadata": {},
     "output_type": "display_data"
    }
   ],
   "source": [
    "plt.boxplot(df['Blood Glucose(Fasting hour-mg/dl)'])\n",
    "\n",
    "plt.show()"
   ]
  },
  {
   "cell_type": "markdown",
   "id": "2a572cda-18db-458a-a540-09c60e69704d",
   "metadata": {},
   "source": [
    "#### Distribution Shape - Histogram"
   ]
  },
  {
   "cell_type": "code",
   "execution_count": 350,
   "id": "00f14d6e-b3c5-44f9-8fff-0026a659c3c9",
   "metadata": {},
   "outputs": [
    {
     "data": {
      "image/png": "[encoded data removed]",
      "text/plain": [
       "<Figure size 640x480 with 1 Axes>"
      ]
     },
     "metadata": {},
     "output_type": "display_data"
    }
   ],
   "source": [
    "plt.hist(df['Blood Glucose(Fasting hour-mg/dl)'],bins=8,color='skyblue', edgecolor='black')\n",
    "plt.xlabel('Blood Glucose(Fasting hour-mg/dl) Ranges')\n",
    "plt.ylabel('Frequency')\n",
    "plt.title('Blood Glucose(Fasting hour-mg/dl) of Woman')\n",
    "\n",
    "plt.show()"
   ]
  },
  {
   "cell_type": "markdown",
   "id": "42a2aa45-5b41-4fd8-8c26-11596d3871be",
   "metadata": {},
   "source": [
    "#### Skewness"
   ]
  },
  {
   "cell_type": "code",
   "execution_count": 351,
   "id": "b6ae24e3-807a-4dcf-8d5e-8904269797bd",
   "metadata": {},
   "outputs": [
    {
     "data": {
      "text/plain": [
       "-0.037837640034239"
      ]
     },
     "execution_count": 351,
     "metadata": {},
     "output_type": "execute_result"
    }
   ],
   "source": [
    "df['Blood Glucose(Fasting hour-mg/dl)'].skew()"
   ]
  },
  {
   "cell_type": "markdown",
   "id": "8b39b428-f903-41e3-8265-736a4cc7dcdf",
   "metadata": {},
   "source": [
    "#### Z-Scores"
   ]
  },
  {
   "cell_type": "code",
   "execution_count": 352,
   "id": "c96d6a68-cd6a-411b-b9cb-7c1883dbad35",
   "metadata": {},
   "outputs": [
    {
     "name": "stdout",
     "output_type": "stream",
     "text": [
      "0       0.105217\n",
      "1       1.320348\n",
      "2      -0.557581\n",
      "3       0.657549\n",
      "4      -1.109913\n",
      "          ...   \n",
      "6098   -1.330846\n",
      "6099   -1.109913\n",
      "6100    0.988948\n",
      "6101    0.215684\n",
      "6102    0.326150\n",
      "Name: Blood Glucose(Fasting hour-mg/dl), Length: 6103, dtype: float64\n"
     ]
    }
   ],
   "source": [
    "z_scores = stats.zscore(df['Blood Glucose(Fasting hour-mg/dl)'])\n",
    "\n",
    "print(z_scores)"
   ]
  },
  {
   "cell_type": "markdown",
   "id": "4b66339f-6f3a-434b-9032-f546b5e4c117",
   "metadata": {},
   "source": [
    "#### Emperical Rule"
   ]
  },
  {
   "cell_type": "code",
   "execution_count": 353,
   "id": "02e36821-93bc-45b6-aedc-3e9644567033",
   "metadata": {},
   "outputs": [
    {
     "name": "stdout",
     "output_type": "stream",
     "text": [
      "68% fall between:  4.599424815218571 and 6.410078707639039\n",
      "95% fall between:  3.6940978690083375 and 7.315405653849273\n",
      "99.7% fall between:  2.7887709227981037 and 8.220732600059506\n"
     ]
    }
   ],
   "source": [
    "sd_68_low = (mean - std_dev)\n",
    "sd_68_high =  (mean + std_dev)\n",
    "print(\"68% fall between: \", sd_68_low, \"and\", sd_68_high)\n",
    "\n",
    "sd_95_low = (mean - 2*std_dev)\n",
    "sd_95_high =  (mean + 2*std_dev)\n",
    "print(\"95% fall between: \", sd_95_low, \"and\", sd_95_high)\n",
    "\n",
    "sd_99_low = (mean - 3*std_dev)\n",
    "sd_99_high = (mean + 3*std_dev)\n",
    "print(\"99.7% fall between: \", sd_99_low, \"and\", sd_99_high)"
   ]
  },
  {
   "cell_type": "markdown",
   "id": "80ffc1ab-c7d6-40c2-babb-0eee37a1d708",
   "metadata": {},
   "source": [
    "#### Emperical Rule Plot"
   ]
  },
  {
   "cell_type": "code",
   "execution_count": 354,
   "id": "7f5b00f2-7077-4bfc-845d-e4c2a7b04968",
   "metadata": {},
   "outputs": [
    {
     "data": {
      "image/png": "[encoded data removed]",
      "text/plain": [
       "<Figure size 640x480 with 1 Axes>"
      ]
     },
     "metadata": {},
     "output_type": "display_data"
    }
   ],
   "source": [
    "plt.hist(df['Blood Glucose(Fasting hour-mg/dl)'])\n",
    "\n",
    "# Plot the mean and standard deviations\n",
    "plt.axvline(mean, color='r', linestyle='dashed', linewidth=1, label='Mean')\n",
    "plt.axvline(mean - std_dev, color='g', linestyle='dashed', linewidth=1, label='1 STD')\n",
    "plt.axvline(mean + std_dev, color='g', linestyle='dashed', linewidth=1)\n",
    "plt.axvline(mean - 2*std_dev, color='b', linestyle='dashed', linewidth=1, label='2 STD')\n",
    "plt.axvline(mean + 2*std_dev, color='b', linestyle='dashed', linewidth=1)\n",
    "plt.axvline(mean - 3*std_dev, color='m', linestyle='dashed', linewidth=1, label='3 STD')\n",
    "plt.axvline(mean + 3*std_dev, color='m', linestyle='dashed', linewidth=1)\n",
    "\n",
    "plt.legend()\n",
    "plt.xlabel('Blood Glucose(Fasting hour-mg/dl) of woman')\n",
    "plt.ylabel('Density')\n",
    "plt.title('Histogram of Blood Glucose(Fasting hour-mg/dl) of woman')\n",
    "plt.show()"
   ]
  },
  {
   "cell_type": "markdown",
   "id": "8e09cbf3-680f-4817-bd44-b944b00854f1",
   "metadata": {},
   "source": [
    "#### Chebyshevs Theorem"
   ]
  },
  {
   "cell_type": "markdown",
   "id": "d8134103-cbb6-4788-84ae-495b2cc6ea43",
   "metadata": {},
   "source": [
    "Using Chebshevs theorem to find the proportion of observations I would expect to find within k standard deviations from the mean. The formula that can be used is:"
   ]
  },
  {
   "cell_type": "code",
   "execution_count": 356,
   "id": "daed2722-8b39-4ca1-a552-4ef73c3e6830",
   "metadata": {},
   "outputs": [
    {
     "name": "stdout",
     "output_type": "stream",
     "text": [
      "Probability according to Chebyshev's inequality using 2 standard deviations: 0.25\n"
     ]
    }
   ],
   "source": [
    "def chebyshev_probability(k):\n",
    "    return 1 -(1 / (k ** 2))"
   ]
  },
  {
   "cell_type": "code",
   "execution_count": null,
   "id": "7ef4e815-510c-4f35-8e8b-ed98f599c1d1",
   "metadata": {},
   "outputs": [],
   "source": [
    "k = 2\n",
    "formula = chebyshev_probability(k) * 100\n",
    "lower_bound = mean - k * std_dev\n",
    "upper_bound = mean + k * std_dev\n",
    "\n",
    "print(formula,\"% of the values fall between: \", lower_bound, \"and\", upper_bound)"
   ]
  },
  {
   "cell_type": "markdown",
   "id": "4f7287ef-77e3-46d0-9850-1c1c2be6e86d",
   "metadata": {},
   "source": [
    "#### Association Between Two Variables"
   ]
  },
  {
   "cell_type": "code",
   "execution_count": 357,
   "id": "04ca5cb0-264d-4e58-9748-e2d9e1949875",
   "metadata": {},
   "outputs": [
    {
     "name": "stdout",
     "output_type": "stream",
     "text": [
      "Covariance between Age and Blood Glucose: 0.1689516678425368\n",
      "Correlation Coefficient between Age and Blood Glucose: 0.03266395131405295\n"
     ]
    }
   ],
   "source": [
    "x = df['Age'] # Variable 1\n",
    "y = df['Blood Glucose(Fasting hour-mg/dl)'] # Variable 2\n",
    "\n",
    "\n",
    "covariance = np.cov(x, y)[0, 1]\n",
    "print(\"Covariance between Age and Blood Glucose:\", covariance)\n",
    "\n",
    "correlation_coefficient = np.corrcoef(x, y)[0, 1]\n",
    "print(\"Correlation Coefficient between Age and Blood Glucose:\", correlation_coefficient)"
   ]
  },
  {
   "cell_type": "markdown",
   "id": "d175244e-0786-4142-b580-9e718b16439a",
   "metadata": {},
   "source": [
    "#### Fasting Blood glucose levels Analysis\n",
    "\n",
    "- A normal fasting blood glucose level for pregnant women is generally considered to be between 3.9 and 5.6.\n",
    "- The mean which is 5.5 shows us that the average women’s fasting blood glucose level is within the normal fasting blood glucose level range.\n",
    "- The mode which is 5.9 shows us that it is most common for a woman to have a just above the normal fasting blood glucose level.\n",
    "- Woman in the 1st Quartile have a normal fasting blood glucose level whilst the ones in the 2nd and 3rd Quartile have a fasting blood glucose level that’s above the normal level.\n",
    "- We see there is a woman whose fasting blood glucose level reading is the highest at 8.9. She would be an ideal candidate for medical intervention in this regard.\n",
    "- We see there is a woman whose fasting blood glucose level reading is the lowest at 3.5 which is much too low. She would be an ideal candidate for medical intervention in this regard.\n",
    "- Skewness of the data is a negative value of - 0.04 therefore we can note the mean (5.5) is less than the median (5.7)\n",
    "- The covariance between a women’s age and her fasting blood glucose level reading is a positive one (0.07). Therefore, if an increase in age occurs it results in an increase in the fasting blood glucose level as well.\n",
    "- The correlation coefficient between a women’s age and her fasting blood glucose level reading is a positive one (0.01) however 0.01 is low and therefore there is little to no correlation between the two factors"
   ]
  },
  {
   "cell_type": "markdown",
   "id": "e9193841-a59d-4cbd-80b8-c4fdc211aa4b",
   "metadata": {},
   "source": [
    "## 6. BMI(kg/m2)"
   ]
  },
  {
   "cell_type": "markdown",
   "id": "953008af-4d84-4e1e-9ee6-ee87b8d2d88f",
   "metadata": {},
   "source": [
    "#### Sum"
   ]
  },
  {
   "cell_type": "code",
   "execution_count": 383,
   "id": "c57023a1-8760-4b47-961e-a7e833d52daf",
   "metadata": {},
   "outputs": [
    {
     "name": "stdout",
     "output_type": "stream",
     "text": [
      "130821.35\n"
     ]
    }
   ],
   "source": [
    "sum = df['BMI(kg/m 2)'].sum()\n",
    "\n",
    "print(sum)"
   ]
  },
  {
   "cell_type": "markdown",
   "id": "28394daf-25a6-4d0b-b8bc-1e32a405df7f",
   "metadata": {},
   "source": [
    "#### Mean"
   ]
  },
  {
   "cell_type": "code",
   "execution_count": 359,
   "id": "7745a90a-97e0-4fe3-a502-4cebd83110f3",
   "metadata": {},
   "outputs": [
    {
     "name": "stdout",
     "output_type": "stream",
     "text": [
      "21.435580861871212\n"
     ]
    }
   ],
   "source": [
    "mean = df['BMI(kg/m 2)'].mean()\n",
    "\n",
    "print(mean)"
   ]
  },
  {
   "cell_type": "markdown",
   "id": "5b8ddd97-d9bf-42d0-a642-ce18a637974b",
   "metadata": {},
   "source": [
    "#### Mode"
   ]
  },
  {
   "cell_type": "code",
   "execution_count": 360,
   "id": "b07f63ed-f0a0-4e90-b182-86ca0be89471",
   "metadata": {},
   "outputs": [
    {
     "name": "stdout",
     "output_type": "stream",
     "text": [
      "0    18.8\n",
      "Name: BMI(kg/m 2), dtype: float64\n"
     ]
    }
   ],
   "source": [
    "mode = df['BMI(kg/m 2)'].mode()\n",
    "\n",
    "print(mode)"
   ]
  },
  {
   "cell_type": "markdown",
   "id": "2f132a8c-11aa-4440-a9d1-a1433c9efb57",
   "metadata": {},
   "source": [
    "#### Median"
   ]
  },
  {
   "cell_type": "code",
   "execution_count": 361,
   "id": "ff00ff40-2811-472e-9d9a-35ad9ebf395f",
   "metadata": {},
   "outputs": [
    {
     "name": "stdout",
     "output_type": "stream",
     "text": [
      "21.3\n"
     ]
    }
   ],
   "source": [
    "median = df['BMI(kg/m 2)'].median()\n",
    "\n",
    "print(median)"
   ]
  },
  {
   "cell_type": "markdown",
   "id": "48bfc8f0-6ccc-4e54-bcbd-69cdf3dab44c",
   "metadata": {},
   "source": [
    "#### Geometric Mean"
   ]
  },
  {
   "cell_type": "code",
   "execution_count": 362,
   "id": "777c1d93-51dc-4474-bc10-fc77c87fe84e",
   "metadata": {},
   "outputs": [
    {
     "name": "stdout",
     "output_type": "stream",
     "text": [
      "21.327823308149505\n"
     ]
    }
   ],
   "source": [
    "geometric_mean = gmean(df.loc[:,'BMI(kg/m 2)'])\n",
    "\n",
    "print(geometric_mean)"
   ]
  },
  {
   "cell_type": "markdown",
   "id": "6eb0b3c7-aeae-464a-a0e0-fc926caabc71",
   "metadata": {},
   "source": [
    "#### 80th Percentile"
   ]
  },
  {
   "cell_type": "code",
   "execution_count": 363,
   "id": "17e060b2-440b-4d06-92b8-1fbdf35eb2c6",
   "metadata": {},
   "outputs": [
    {
     "name": "stdout",
     "output_type": "stream",
     "text": [
      "23.5\n"
     ]
    }
   ],
   "source": [
    "Q80 = df['BMI(kg/m 2)'].quantile(0.80)\n",
    "\n",
    "print(Q80)"
   ]
  },
  {
   "cell_type": "markdown",
   "id": "7b8ee79f-f3b0-4886-823a-a973f86ffc9b",
   "metadata": {},
   "source": [
    "#### Smallest Value"
   ]
  },
  {
   "cell_type": "code",
   "execution_count": 364,
   "id": "27227a22-5471-408d-b329-3eb726ad308a",
   "metadata": {},
   "outputs": [
    {
     "data": {
      "text/plain": [
       "14.9"
      ]
     },
     "execution_count": 364,
     "metadata": {},
     "output_type": "execute_result"
    }
   ],
   "source": [
    "df['BMI(kg/m 2)'].min()"
   ]
  },
  {
   "cell_type": "markdown",
   "id": "06c6df9c-33dd-4591-a582-851197791fb0",
   "metadata": {},
   "source": [
    "#### Largest Value"
   ]
  },
  {
   "cell_type": "code",
   "execution_count": 365,
   "id": "8597e5cb-a046-4769-82ad-824d8b9f9291",
   "metadata": {},
   "outputs": [
    {
     "data": {
      "text/plain": [
       "27.9"
      ]
     },
     "execution_count": 365,
     "metadata": {},
     "output_type": "execute_result"
    }
   ],
   "source": [
    "df['BMI(kg/m 2)'].max()"
   ]
  },
  {
   "cell_type": "markdown",
   "id": "49df06b1-96b5-4003-8b18-8da4e386258d",
   "metadata": {},
   "source": [
    "#### Range"
   ]
  },
  {
   "cell_type": "code",
   "execution_count": 366,
   "id": "d078538b-97db-4052-a9c2-85d439ab7826",
   "metadata": {},
   "outputs": [
    {
     "data": {
      "text/plain": [
       "12.999999999999998"
      ]
     },
     "execution_count": 366,
     "metadata": {},
     "output_type": "execute_result"
    }
   ],
   "source": [
    "df['BMI(kg/m 2)'].max() - df['BMI(kg/m 2)'].min()"
   ]
  },
  {
   "cell_type": "markdown",
   "id": "583d4edb-c3d9-42b7-aa24-8e563b0c1157",
   "metadata": {},
   "source": [
    "#### Variance"
   ]
  },
  {
   "cell_type": "code",
   "execution_count": 367,
   "id": "a1dbfa99-e3bc-45ad-be83-05b8d776d6ab",
   "metadata": {},
   "outputs": [
    {
     "data": {
      "text/plain": [
       "4.652909065199038"
      ]
     },
     "execution_count": 367,
     "metadata": {},
     "output_type": "execute_result"
    }
   ],
   "source": [
    "df['BMI(kg/m 2)'].var()"
   ]
  },
  {
   "cell_type": "markdown",
   "id": "d2171bff-8a4d-4a26-99a8-c9ca61c87434",
   "metadata": {},
   "source": [
    "#### Standard Deviation"
   ]
  },
  {
   "cell_type": "code",
   "execution_count": 368,
   "id": "ca1e09ec-b769-4244-a228-5e830d99c7a2",
   "metadata": {},
   "outputs": [
    {
     "name": "stdout",
     "output_type": "stream",
     "text": [
      "2.157060283162953\n"
     ]
    }
   ],
   "source": [
    "std_dev = df['BMI(kg/m 2)'].std()\n",
    "\n",
    "print(std_dev)"
   ]
  },
  {
   "cell_type": "markdown",
   "id": "212ef3c3-9cba-45ae-8b43-78d0507c2c1c",
   "metadata": {},
   "source": [
    "#### Coefficient of Variation"
   ]
  },
  {
   "cell_type": "code",
   "execution_count": 369,
   "id": "9ecfe01e-9ae2-41f1-b54a-33aca3c0eaf3",
   "metadata": {},
   "outputs": [
    {
     "name": "stdout",
     "output_type": "stream",
     "text": [
      "0.10062989648206123\n"
     ]
    }
   ],
   "source": [
    "cv = (std_dev / mean)\n",
    "\n",
    "print(cv)"
   ]
  },
  {
   "cell_type": "markdown",
   "id": "18d856e8-0633-4ccc-9264-0bcbe9bd5626",
   "metadata": {},
   "source": [
    "#### First Quartile / 25th Percentile"
   ]
  },
  {
   "cell_type": "code",
   "execution_count": 370,
   "id": "7e998c71-6bcf-4832-bf31-0420b5b51d6e",
   "metadata": {},
   "outputs": [
    {
     "name": "stdout",
     "output_type": "stream",
     "text": [
      "19.6\n"
     ]
    }
   ],
   "source": [
    "Q1 = df['BMI(kg/m 2)'].quantile(0.25)\n",
    "\n",
    "print(Q1)"
   ]
  },
  {
   "cell_type": "markdown",
   "id": "b894fee4-6ec5-4ea9-b6d7-b11d35de3ed6",
   "metadata": {},
   "source": [
    "#### Second Quartile / 50th Percentile"
   ]
  },
  {
   "cell_type": "code",
   "execution_count": 371,
   "id": "612a3886-6076-4738-95ab-ba201a5d05c0",
   "metadata": {},
   "outputs": [
    {
     "name": "stdout",
     "output_type": "stream",
     "text": [
      "21.3\n"
     ]
    }
   ],
   "source": [
    "Q2 = df['BMI(kg/m 2)'].quantile(0.50)\n",
    "\n",
    "print(Q2)"
   ]
  },
  {
   "cell_type": "markdown",
   "id": "8f2ec2b3-b597-4935-a9bc-17ff50341fac",
   "metadata": {},
   "source": [
    "#### Third Quartile / 75th Percentile"
   ]
  },
  {
   "cell_type": "code",
   "execution_count": 372,
   "id": "843bc21e-054b-420d-8ed7-a039a42ba339",
   "metadata": {},
   "outputs": [
    {
     "name": "stdout",
     "output_type": "stream",
     "text": [
      "23.1\n"
     ]
    }
   ],
   "source": [
    "Q3 = df['BMI(kg/m 2)'].quantile(0.75)\n",
    "\n",
    "print(Q3)"
   ]
  },
  {
   "cell_type": "markdown",
   "id": "c84bc62e-2fa2-4ce3-9b85-a84fea589b44",
   "metadata": {},
   "source": [
    "#### Interquartile Range"
   ]
  },
  {
   "cell_type": "code",
   "execution_count": 373,
   "id": "81842b12-95e7-4380-b8d4-1eab6aa36fc5",
   "metadata": {},
   "outputs": [
    {
     "name": "stdout",
     "output_type": "stream",
     "text": [
      "3.5\n"
     ]
    }
   ],
   "source": [
    "IQR = Q3 - Q1\n",
    "print(IQR)"
   ]
  },
  {
   "cell_type": "markdown",
   "id": "b8b77420-e2d0-42d5-8658-1230ecc1c59c",
   "metadata": {},
   "source": [
    "#### Box plot"
   ]
  },
  {
   "cell_type": "code",
   "execution_count": 374,
   "id": "7ef97d42-b606-452a-aff4-ac43c5d4b1b1",
   "metadata": {},
   "outputs": [
    {
     "data": {
      "image/png": "[encoded data removed]",
      "text/plain": [
       "<Figure size 640x480 with 1 Axes>"
      ]
     },
     "metadata": {},
     "output_type": "display_data"
    }
   ],
   "source": [
    "plt.boxplot(df['BMI(kg/m 2)'])\n",
    "\n",
    "plt.show()"
   ]
  },
  {
   "cell_type": "markdown",
   "id": "b05c1adf-d627-4294-9d01-6adcc3dadfe2",
   "metadata": {},
   "source": [
    "#### Distribution Shape - Histogram"
   ]
  },
  {
   "cell_type": "code",
   "execution_count": 375,
   "id": "7b78843d-2603-4da0-b6ee-cc34cb4302ba",
   "metadata": {},
   "outputs": [
    {
     "data": {
      "image/png": "[encoded data removed]",
      "text/plain": [
       "<Figure size 640x480 with 1 Axes>"
      ]
     },
     "metadata": {},
     "output_type": "display_data"
    }
   ],
   "source": [
    "plt.hist(df['BMI(kg/m 2)'],bins=8,color='skyblue', edgecolor='black')\n",
    "plt.xlabel('BMI(kg/m 2) Ranges')\n",
    "plt.ylabel('Frequency')\n",
    "plt.title('BMI(kg/m 2) of Woman')\n",
    "\n",
    "plt.show()"
   ]
  },
  {
   "cell_type": "markdown",
   "id": "53f1e24e-5306-4cbe-a742-ba3ce6044371",
   "metadata": {},
   "source": [
    "#### Skewness"
   ]
  },
  {
   "cell_type": "code",
   "execution_count": 376,
   "id": "ef9bad21-ba14-46eb-bea7-63b700b1dedc",
   "metadata": {},
   "outputs": [
    {
     "data": {
      "text/plain": [
       "0.2360956896328745"
      ]
     },
     "execution_count": 376,
     "metadata": {},
     "output_type": "execute_result"
    }
   ],
   "source": [
    "df['BMI(kg/m 2)'].skew()"
   ]
  },
  {
   "cell_type": "markdown",
   "id": "415ccfc0-9d57-43f0-a0a3-a7c3c7a9d659",
   "metadata": {},
   "source": [
    "#### Z-Scores"
   ]
  },
  {
   "cell_type": "code",
   "execution_count": 377,
   "id": "e2bced80-5b81-4af8-803e-4ef87819dee8",
   "metadata": {},
   "outputs": [
    {
     "name": "stdout",
     "output_type": "stream",
     "text": [
      "0       1.559852\n",
      "1       1.420762\n",
      "2       1.096220\n",
      "3       0.029867\n",
      "4      -0.109223\n",
      "          ...   \n",
      "6098   -1.129213\n",
      "6099   -0.016496\n",
      "6100    1.142583\n",
      "6101    0.586225\n",
      "6102   -1.036487\n",
      "Name: BMI(kg/m 2), Length: 6103, dtype: float64\n"
     ]
    }
   ],
   "source": [
    "z_scores = stats.zscore(df['BMI(kg/m 2)'])\n",
    "\n",
    "print(z_scores)"
   ]
  },
  {
   "cell_type": "markdown",
   "id": "62bbef7c-bf44-43d1-b7ae-faafd02bc6fe",
   "metadata": {},
   "source": [
    "#### Emperical Rule"
   ]
  },
  {
   "cell_type": "code",
   "execution_count": 378,
   "id": "f7e004b2-a321-4cc8-b8d6-cf10edb2f2e0",
   "metadata": {},
   "outputs": [
    {
     "name": "stdout",
     "output_type": "stream",
     "text": [
      "68% fall between:  19.27852057870826 and 23.592641145034165\n",
      "95% fall between:  17.121460295545305 and 25.74970142819712\n",
      "99.7% fall between:  14.964400012382352 and 27.906761711360073\n"
     ]
    }
   ],
   "source": [
    "sd_68_low = (mean - std_dev)\n",
    "sd_68_high =  (mean + std_dev)\n",
    "print(\"68% fall between: \", sd_68_low, \"and\", sd_68_high)\n",
    "\n",
    "sd_95_low = (mean - 2*std_dev)\n",
    "sd_95_high =  (mean + 2*std_dev)\n",
    "print(\"95% fall between: \", sd_95_low, \"and\", sd_95_high)\n",
    "\n",
    "sd_99_low = (mean - 3*std_dev)\n",
    "sd_99_high = (mean + 3*std_dev)\n",
    "print(\"99.7% fall between: \", sd_99_low, \"and\", sd_99_high)"
   ]
  },
  {
   "cell_type": "markdown",
   "id": "6f911468-f176-4625-9fd2-f787676b375c",
   "metadata": {},
   "source": [
    "#### Emperical Rule Plot"
   ]
  },
  {
   "cell_type": "code",
   "execution_count": 379,
   "id": "4c8d14dc-c29e-4c94-a9f5-b91d11d25fdb",
   "metadata": {},
   "outputs": [
    {
     "data": {
      "image/png": "[encoded data removed]",
      "text/plain": [
       "<Figure size 640x480 with 1 Axes>"
      ]
     },
     "metadata": {},
     "output_type": "display_data"
    }
   ],
   "source": [
    "plt.hist(df['BMI(kg/m 2)'])\n",
    "\n",
    "# Plot the mean and standard deviations\n",
    "plt.axvline(mean, color='r', linestyle='dashed', linewidth=1, label='Mean')\n",
    "plt.axvline(mean - std_dev, color='g', linestyle='dashed', linewidth=1, label='1 STD')\n",
    "plt.axvline(mean + std_dev, color='g', linestyle='dashed', linewidth=1)\n",
    "plt.axvline(mean - 2*std_dev, color='b', linestyle='dashed', linewidth=1, label='2 STD')\n",
    "plt.axvline(mean + 2*std_dev, color='b', linestyle='dashed', linewidth=1)\n",
    "plt.axvline(mean - 3*std_dev, color='m', linestyle='dashed', linewidth=1, label='3 STD')\n",
    "plt.axvline(mean + 3*std_dev, color='m', linestyle='dashed', linewidth=1)\n",
    "\n",
    "plt.legend()\n",
    "plt.xlabel('BMI(kg/m 2) of woman')\n",
    "plt.ylabel('Density')\n",
    "plt.title('Histogram of BMI(kg/m 2) of woman')\n",
    "plt.show()"
   ]
  },
  {
   "cell_type": "markdown",
   "id": "7b1d6fb2-8f7d-4ec8-8b3a-5e68461871bc",
   "metadata": {},
   "source": [
    "#### Chebyshevs Theorem"
   ]
  },
  {
   "cell_type": "markdown",
   "id": "dc9269e5-fa7e-4e98-adcb-6382a3509d08",
   "metadata": {},
   "source": [
    "Using Chebshevs theorem to find the proportion of observations I would expect to find within k standard deviations from the mean. The formula that can be used is:"
   ]
  },
  {
   "cell_type": "code",
   "execution_count": 381,
   "id": "810a5463-fdb5-4017-ab31-a83eb52b4a57",
   "metadata": {},
   "outputs": [
    {
     "name": "stdout",
     "output_type": "stream",
     "text": [
      "Probability according to Chebyshev's inequality using 2 standard deviations: 0.25\n"
     ]
    }
   ],
   "source": [
    "def chebyshev_probability(k):\n",
    "    return 1 -(1 / (k ** 2))"
   ]
  },
  {
   "cell_type": "code",
   "execution_count": null,
   "id": "085731ae-b1af-468a-afc3-57de955d0be8",
   "metadata": {},
   "outputs": [],
   "source": [
    "k = 2\n",
    "formula = chebyshev_probability(k) * 100\n",
    "lower_bound = mean - k * std_dev\n",
    "upper_bound = mean + k * std_dev\n",
    "\n",
    "print(formula,\"% of the values fall between: \", lower_bound, \"and\", upper_bound)"
   ]
  },
  {
   "cell_type": "markdown",
   "id": "d4a72ac2-0ef1-4283-b942-f02c1e5c4139",
   "metadata": {},
   "source": [
    "#### Association Between Two Variables"
   ]
  },
  {
   "cell_type": "code",
   "execution_count": 382,
   "id": "5090cd10-2649-4980-a949-a6b9a89962f9",
   "metadata": {},
   "outputs": [
    {
     "name": "stdout",
     "output_type": "stream",
     "text": [
      "Covariance between Age and BMI: -3.8570781812148316\n",
      "Correlation Coefficient between Age and BMI: -0.3129736988717244\n"
     ]
    }
   ],
   "source": [
    "x = df['Age'] # Variable 1\n",
    "y = df['BMI(kg/m 2)'] # Variable 2\n",
    "\n",
    "\n",
    "covariance = np.cov(x, y)[0, 1]\n",
    "print(\"Covariance between Age and BMI:\", covariance)\n",
    "\n",
    "correlation_coefficient = np.corrcoef(x, y)[0, 1]\n",
    "print(\"Correlation Coefficient between Age and BMI:\", correlation_coefficient)"
   ]
  },
  {
   "cell_type": "markdown",
   "id": "4db72c27-7dba-4dd8-8485-5b399f8c9393",
   "metadata": {},
   "source": [
    "#### BMI data Analysis\n",
    "\n",
    "- A normal BMI rate for pregnant women is generally considered to be between BMI 18.5-24.9\n",
    "- The mean which is 21.44 shows us that the average women’s BMI is well within the normal BMI range.\n",
    "- The mode which is 18.8 shows us that it is most common for a woman to have a just about normal BMI.\n",
    "- Woman between the 1st and 3rd Quartile have a normal BMI.\n",
    "- We see there is a woman whose BMI reading is the highest at 27.9 which is much too high. She would be an ideal candidate for medical intervention in this regard.\n",
    "- We see there is a woman whose BMI reading is the lowest at 14.9 which is much too low. She would be an ideal candidate for medical intervention in this regard.\n",
    "- Skewness of the data is a positive value of 0.24 therefore we can note the mean (21.44) is more than the median (21.3)\n",
    "- The covariance between a women’s age and her systolic blood pressure reading is a negative one (- 0.82). Negative covariance indicates an inverse relationship between two variables. This means that when one variable increases, the other variable tends to decrease, and vice versa. Therefore, if an increase in age occurs it results in a decrease in the BMI reading as well.\n",
    "- The correlation coefficient between a women’s age and her BMI reading is a negative one (-0.07) therefore the stronger the inverse relationship between the variables."
   ]
  },
  {
   "cell_type": "markdown",
   "id": "921570c4-8062-4d59-8b97-38904ae04d6d",
   "metadata": {},
   "source": [
    "## Bonus calculations"
   ]
  },
  {
   "cell_type": "markdown",
   "id": "3e0ef19f-a7ee-46b9-97e2-77439782e44c",
   "metadata": {},
   "source": [
    "#### Kurtosis"
   ]
  },
  {
   "cell_type": "markdown",
   "id": "e7e4f5b3-b221-499d-b594-8475d85ff402",
   "metadata": {},
   "source": [
    "- Kurtosis is a descriptive statistic that measures the shape of your data distribution, focusing on the tails or extremes of the distribution.\n",
    "- It specifically focuses on how much the tails of your data deviate from a normal distribution.\n",
    "- Kurtosis helps assess whether your data has a significant number of outliers compared to a normal distribution."
   ]
  },
  {
   "cell_type": "code",
   "execution_count": 434,
   "id": "ae04b971-ce49-449c-8391-a7516226ac27",
   "metadata": {},
   "outputs": [
    {
     "data": {
      "text/plain": [
       "0.2589792140771028"
      ]
     },
     "execution_count": 434,
     "metadata": {},
     "output_type": "execute_result"
    }
   ],
   "source": [
    "df['Age'].kurt()"
   ]
  },
  {
   "cell_type": "markdown",
   "id": "9d355579-dc73-442e-9c40-db92204ff434",
   "metadata": {},
   "source": [
    "- In this case, we have Excess Kurtosis due to the value being a positive number (0.26).\n",
    "- This indicates a leptokurtic distribution.\n",
    "- The data has fatter tails than a normal distribution, meaning there are more extreme values (outliers) in the data set."
   ]
  },
  {
   "cell_type": "code",
   "execution_count": 435,
   "id": "0f6ba353-d475-4752-9ebe-80d038849f42",
   "metadata": {},
   "outputs": [
    {
     "data": {
      "text/plain": [
       "0.7972609450749282"
      ]
     },
     "execution_count": 435,
     "metadata": {},
     "output_type": "execute_result"
    }
   ],
   "source": [
    "df['Heart rate(bpm)'].kurt()"
   ]
  },
  {
   "cell_type": "markdown",
   "id": "8af88a05-d6d4-4d3d-ae40-536a918ec45e",
   "metadata": {},
   "source": [
    "- In this case, we have Excess Kurtosis due to the value being a positive number (0.8).\n",
    "- This indicates a leptokurtic distribution.\n",
    "- The data has fatter tails than a normal distribution, meaning there are more extreme values (outliers) in the data set."
   ]
  },
  {
   "cell_type": "code",
   "execution_count": 436,
   "id": "e1dad927-cd3f-4daa-864c-64d639faa82c",
   "metadata": {},
   "outputs": [
    {
     "data": {
      "text/plain": [
       "3.0854575268217954"
      ]
     },
     "execution_count": 436,
     "metadata": {},
     "output_type": "execute_result"
    }
   ],
   "source": [
    "df['Diastolic Blood Pressure(mm Hg)'].kurt()"
   ]
  },
  {
   "cell_type": "markdown",
   "id": "f63a5971-2c32-4314-a1b7-1bb1632643a3",
   "metadata": {},
   "source": [
    "- In this case, we have Excess Kurtosis due to the value being a positive number (3.1).\n",
    "- This indicates a leptokurtic distribution.\n",
    "- The data has fatter tails than a normal distribution, meaning there are more extreme values (outliers) in the data set."
   ]
  },
  {
   "cell_type": "code",
   "execution_count": 437,
   "id": "5ce7a6f7-a8f8-4f65-aa6e-f102ebeb1933",
   "metadata": {},
   "outputs": [
    {
     "data": {
      "text/plain": [
       "-0.5552269656960216"
      ]
     },
     "execution_count": 437,
     "metadata": {},
     "output_type": "execute_result"
    }
   ],
   "source": [
    "df['Systolic Blood Pressure(mm Hg)'].kurt()"
   ]
  },
  {
   "attachments": {},
   "cell_type": "markdown",
   "id": "3c4b6558-a66f-4036-9c36-822a6650b4c8",
   "metadata": {},
   "source": [
    "- In this case, we have Negative Kurtosis due to the value being a negative number (-0.56).\r",
    "- This indicates a platykurtic distribution. The data has thinner tails than a normal distribution,meaning there areg fewer extreme values and a more peaked centre\n",
    "- More data values are located near the mean and less data values are located on the tails.\r\n"
   ]
  },
  {
   "cell_type": "code",
   "execution_count": 438,
   "id": "10f3192c-c95a-4d6a-b85c-a31f12710c21",
   "metadata": {},
   "outputs": [
    {
     "data": {
      "text/plain": [
       "-0.38560486537389105"
      ]
     },
     "execution_count": 438,
     "metadata": {},
     "output_type": "execute_result"
    }
   ],
   "source": [
    "df['Blood Glucose(Fasting hour-mg/dl)'].kurt()"
   ]
  },
  {
   "attachments": {},
   "cell_type": "markdown",
   "id": "871dd30a-56be-4ef3-aa4e-008c23523e67",
   "metadata": {},
   "source": [
    "- In this case, we have Negative Kurtosis due to the value being a negative number (-0.39).\r",
    "- This indicates a platykurtic distribution. The data has thinner tails than a normal distribution,meaning there areg fewer extreme values and a more peaked centre\n",
    "- More data values are located near the mean and less data values are located on the tails.\r\n"
   ]
  },
  {
   "cell_type": "code",
   "execution_count": 439,
   "id": "6b0bd1db-8509-41aa-a97f-559e66d86bd7",
   "metadata": {},
   "outputs": [
    {
     "data": {
      "text/plain": [
       "-0.6911014374848095"
      ]
     },
     "execution_count": 439,
     "metadata": {},
     "output_type": "execute_result"
    }
   ],
   "source": [
    "df['BMI(kg/m 2)'].kurt()"
   ]
  },
  {
   "attachments": {},
   "cell_type": "markdown",
   "id": "48912466-e4d2-4896-b06a-d8040b1ef8df",
   "metadata": {},
   "source": [
    "- In this case, we have Negative Kurtosis due to the value being a negative number (-0.69).\r",
    "- This indicates a platykurtic distribution. The data has thinner tails than a normal distribution,meaning there areg fewer extreme values and a more peaked centre\n",
    "- More data values are located near the mean and less data values are located on the tails.\r\n"
   ]
  },
  {
   "cell_type": "markdown",
   "id": "9762dcce-2051-4dec-b2aa-f6cb7129282d",
   "metadata": {},
   "source": [
    "#### Describe() Function"
   ]
  },
  {
   "cell_type": "markdown",
   "id": "53f01384-1387-4cb3-abd2-d3b9e00aa7c0",
   "metadata": {},
   "source": [
    "- Descriptive statistics in python can be obtained very easily by using the `describe()` function.\n",
    "- The `describe()` function gives us statistics such as`count`, `mean`, `standard deviation(std)`, `minimum`, `Q1(25%)`, `median(50%)`, `Q3(75%)`, `IQR(Q3 - Q1)` and `maximum` values in a one line command\n",
    "- One can choose to run the `describe()` function on all the columns of the dataset or one can include and exclude columns based on their data types\n",
    "- This is a very nifty command as it can help give a quick summary of a dataset allowing one to get a high-level picture of the data they intend on working with"
   ]
  },
  {
   "cell_type": "code",
   "execution_count": 440,
   "id": "b5e36ad0-fca8-4e38-99bf-7faeec75f247",
   "metadata": {},
   "outputs": [
    {
     "data": {
      "text/html": [
       "<div>\n",
       "<style scoped>\n",
       "    .dataframe tbody tr th:only-of-type {\n",
       "        vertical-align: middle;\n",
       "    }\n",
       "\n",
       "    .dataframe tbody tr th {\n",
       "        vertical-align: top;\n",
       "    }\n",
       "\n",
       "    .dataframe thead th {\n",
       "        text-align: right;\n",
       "    }\n",
       "</style>\n",
       "<table border=\"1\" class=\"dataframe\">\n",
       "  <thead>\n",
       "    <tr style=\"text-align: right;\">\n",
       "      <th></th>\n",
       "      <th>Patient ID</th>\n",
       "      <th>Age</th>\n",
       "      <th>Heart rate(bpm)</th>\n",
       "      <th>Diastolic Blood Pressure(mm Hg)</th>\n",
       "      <th>Systolic Blood Pressure(mm Hg)</th>\n",
       "      <th>Blood Glucose(Fasting hour-mg/dl)</th>\n",
       "      <th>BMI(kg/m 2)</th>\n",
       "    </tr>\n",
       "  </thead>\n",
       "  <tbody>\n",
       "    <tr>\n",
       "      <th>count</th>\n",
       "      <td>6.103000e+03</td>\n",
       "      <td>6103.000000</td>\n",
       "      <td>6103.000000</td>\n",
       "      <td>6103.000000</td>\n",
       "      <td>6103.000000</td>\n",
       "      <td>6103.000000</td>\n",
       "      <td>6103.000000</td>\n",
       "    </tr>\n",
       "    <tr>\n",
       "      <th>mean</th>\n",
       "      <td>2.003343e+06</td>\n",
       "      <td>26.388170</td>\n",
       "      <td>86.100770</td>\n",
       "      <td>87.257578</td>\n",
       "      <td>129.218253</td>\n",
       "      <td>5.504752</td>\n",
       "      <td>21.435581</td>\n",
       "    </tr>\n",
       "    <tr>\n",
       "      <th>std</th>\n",
       "      <td>6.604395e+03</td>\n",
       "      <td>5.713317</td>\n",
       "      <td>22.627587</td>\n",
       "      <td>7.793099</td>\n",
       "      <td>17.234217</td>\n",
       "      <td>0.905327</td>\n",
       "      <td>2.157060</td>\n",
       "    </tr>\n",
       "    <tr>\n",
       "      <th>min</th>\n",
       "      <td>1.993365e+06</td>\n",
       "      <td>15.000000</td>\n",
       "      <td>45.000000</td>\n",
       "      <td>9.000000</td>\n",
       "      <td>90.000000</td>\n",
       "      <td>3.500000</td>\n",
       "      <td>14.900000</td>\n",
       "    </tr>\n",
       "    <tr>\n",
       "      <th>25%</th>\n",
       "      <td>1.994890e+06</td>\n",
       "      <td>22.000000</td>\n",
       "      <td>72.000000</td>\n",
       "      <td>82.000000</td>\n",
       "      <td>120.000000</td>\n",
       "      <td>4.800000</td>\n",
       "      <td>19.600000</td>\n",
       "    </tr>\n",
       "    <tr>\n",
       "      <th>50%</th>\n",
       "      <td>2.003000e+06</td>\n",
       "      <td>25.000000</td>\n",
       "      <td>80.000000</td>\n",
       "      <td>87.000000</td>\n",
       "      <td>128.000000</td>\n",
       "      <td>5.700000</td>\n",
       "      <td>21.300000</td>\n",
       "    </tr>\n",
       "    <tr>\n",
       "      <th>75%</th>\n",
       "      <td>2.010128e+06</td>\n",
       "      <td>30.000000</td>\n",
       "      <td>91.000000</td>\n",
       "      <td>92.000000</td>\n",
       "      <td>141.000000</td>\n",
       "      <td>6.000000</td>\n",
       "      <td>23.100000</td>\n",
       "    </tr>\n",
       "    <tr>\n",
       "      <th>max</th>\n",
       "      <td>2.013179e+06</td>\n",
       "      <td>48.000000</td>\n",
       "      <td>150.000000</td>\n",
       "      <td>142.000000</td>\n",
       "      <td>169.000000</td>\n",
       "      <td>8.900000</td>\n",
       "      <td>27.900000</td>\n",
       "    </tr>\n",
       "  </tbody>\n",
       "</table>\n",
       "</div>"
      ],
      "text/plain": [
       "         Patient ID          Age  Heart rate(bpm)  \\\n",
       "count  6.103000e+03  6103.000000      6103.000000   \n",
       "mean   2.003343e+06    26.388170        86.100770   \n",
       "std    6.604395e+03     5.713317        22.627587   \n",
       "min    1.993365e+06    15.000000        45.000000   \n",
       "25%    1.994890e+06    22.000000        72.000000   \n",
       "50%    2.003000e+06    25.000000        80.000000   \n",
       "75%    2.010128e+06    30.000000        91.000000   \n",
       "max    2.013179e+06    48.000000       150.000000   \n",
       "\n",
       "       Diastolic Blood Pressure(mm Hg)  Systolic Blood Pressure(mm Hg)  \\\n",
       "count                      6103.000000                     6103.000000   \n",
       "mean                         87.257578                      129.218253   \n",
       "std                           7.793099                       17.234217   \n",
       "min                           9.000000                       90.000000   \n",
       "25%                          82.000000                      120.000000   \n",
       "50%                          87.000000                      128.000000   \n",
       "75%                          92.000000                      141.000000   \n",
       "max                         142.000000                      169.000000   \n",
       "\n",
       "       Blood Glucose(Fasting hour-mg/dl)  BMI(kg/m 2)  \n",
       "count                        6103.000000  6103.000000  \n",
       "mean                            5.504752    21.435581  \n",
       "std                             0.905327     2.157060  \n",
       "min                             3.500000    14.900000  \n",
       "25%                             4.800000    19.600000  \n",
       "50%                             5.700000    21.300000  \n",
       "75%                             6.000000    23.100000  \n",
       "max                             8.900000    27.900000  "
      ]
     },
     "execution_count": 440,
     "metadata": {},
     "output_type": "execute_result"
    }
   ],
   "source": [
    "df.describe()"
   ]
  },
  {
   "cell_type": "markdown",
   "id": "afd93088-4fed-46cd-9182-8a9fd169b4ac",
   "metadata": {},
   "source": [
    "We can see that using the plain and simple `describe()` function excludes the columns that have characters in them and provides the statistics summary of numeric only columns"
   ]
  },
  {
   "cell_type": "code",
   "execution_count": 441,
   "id": "a6ba4661-51d2-4529-826a-80864c227baf",
   "metadata": {},
   "outputs": [
    {
     "data": {
      "text/html": [
       "<div>\n",
       "<style scoped>\n",
       "    .dataframe tbody tr th:only-of-type {\n",
       "        vertical-align: middle;\n",
       "    }\n",
       "\n",
       "    .dataframe tbody tr th {\n",
       "        vertical-align: top;\n",
       "    }\n",
       "\n",
       "    .dataframe thead th {\n",
       "        text-align: right;\n",
       "    }\n",
       "</style>\n",
       "<table border=\"1\" class=\"dataframe\">\n",
       "  <thead>\n",
       "    <tr style=\"text-align: right;\">\n",
       "      <th></th>\n",
       "      <th>Name</th>\n",
       "      <th>Outcome</th>\n",
       "    </tr>\n",
       "  </thead>\n",
       "  <tbody>\n",
       "    <tr>\n",
       "      <th>count</th>\n",
       "      <td>6103</td>\n",
       "      <td>6103</td>\n",
       "    </tr>\n",
       "    <tr>\n",
       "      <th>unique</th>\n",
       "      <td>5797</td>\n",
       "      <td>3</td>\n",
       "    </tr>\n",
       "    <tr>\n",
       "      <th>top</th>\n",
       "      <td>Ratna</td>\n",
       "      <td>high risk</td>\n",
       "    </tr>\n",
       "    <tr>\n",
       "      <th>freq</th>\n",
       "      <td>4</td>\n",
       "      <td>2059</td>\n",
       "    </tr>\n",
       "  </tbody>\n",
       "</table>\n",
       "</div>"
      ],
      "text/plain": [
       "         Name    Outcome\n",
       "count    6103       6103\n",
       "unique   5797          3\n",
       "top     Ratna  high risk\n",
       "freq        4       2059"
      ]
     },
     "execution_count": 441,
     "metadata": {},
     "output_type": "execute_result"
    }
   ],
   "source": [
    "df.describe(include=['object'])"
   ]
  },
  {
   "cell_type": "markdown",
   "id": "794cefe0-b499-4419-8d47-a521b090e544",
   "metadata": {},
   "source": [
    "We can see that using `describe()` with an argument named `include` along with `value` object provides the statistics summary of character only columns."
   ]
  },
  {
   "cell_type": "code",
   "execution_count": 442,
   "id": "8c99acc8-efc3-41e6-9756-c096b4e6a3a8",
   "metadata": {},
   "outputs": [
    {
     "data": {
      "text/html": [
       "<div>\n",
       "<style scoped>\n",
       "    .dataframe tbody tr th:only-of-type {\n",
       "        vertical-align: middle;\n",
       "    }\n",
       "\n",
       "    .dataframe tbody tr th {\n",
       "        vertical-align: top;\n",
       "    }\n",
       "\n",
       "    .dataframe thead th {\n",
       "        text-align: right;\n",
       "    }\n",
       "</style>\n",
       "<table border=\"1\" class=\"dataframe\">\n",
       "  <thead>\n",
       "    <tr style=\"text-align: right;\">\n",
       "      <th></th>\n",
       "      <th>Patient ID</th>\n",
       "      <th>Name</th>\n",
       "      <th>Age</th>\n",
       "      <th>Heart rate(bpm)</th>\n",
       "      <th>Diastolic Blood Pressure(mm Hg)</th>\n",
       "      <th>Systolic Blood Pressure(mm Hg)</th>\n",
       "      <th>Blood Glucose(Fasting hour-mg/dl)</th>\n",
       "      <th>BMI(kg/m 2)</th>\n",
       "      <th>Outcome</th>\n",
       "    </tr>\n",
       "  </thead>\n",
       "  <tbody>\n",
       "    <tr>\n",
       "      <th>count</th>\n",
       "      <td>6.103000e+03</td>\n",
       "      <td>6103</td>\n",
       "      <td>6103.000000</td>\n",
       "      <td>6103.000000</td>\n",
       "      <td>6103.000000</td>\n",
       "      <td>6103.000000</td>\n",
       "      <td>6103.000000</td>\n",
       "      <td>6103.000000</td>\n",
       "      <td>6103</td>\n",
       "    </tr>\n",
       "    <tr>\n",
       "      <th>unique</th>\n",
       "      <td>NaN</td>\n",
       "      <td>5797</td>\n",
       "      <td>NaN</td>\n",
       "      <td>NaN</td>\n",
       "      <td>NaN</td>\n",
       "      <td>NaN</td>\n",
       "      <td>NaN</td>\n",
       "      <td>NaN</td>\n",
       "      <td>3</td>\n",
       "    </tr>\n",
       "    <tr>\n",
       "      <th>top</th>\n",
       "      <td>NaN</td>\n",
       "      <td>Ratna</td>\n",
       "      <td>NaN</td>\n",
       "      <td>NaN</td>\n",
       "      <td>NaN</td>\n",
       "      <td>NaN</td>\n",
       "      <td>NaN</td>\n",
       "      <td>NaN</td>\n",
       "      <td>high risk</td>\n",
       "    </tr>\n",
       "    <tr>\n",
       "      <th>freq</th>\n",
       "      <td>NaN</td>\n",
       "      <td>4</td>\n",
       "      <td>NaN</td>\n",
       "      <td>NaN</td>\n",
       "      <td>NaN</td>\n",
       "      <td>NaN</td>\n",
       "      <td>NaN</td>\n",
       "      <td>NaN</td>\n",
       "      <td>2059</td>\n",
       "    </tr>\n",
       "    <tr>\n",
       "      <th>mean</th>\n",
       "      <td>2.003343e+06</td>\n",
       "      <td>NaN</td>\n",
       "      <td>26.388170</td>\n",
       "      <td>86.100770</td>\n",
       "      <td>87.257578</td>\n",
       "      <td>129.218253</td>\n",
       "      <td>5.504752</td>\n",
       "      <td>21.435581</td>\n",
       "      <td>NaN</td>\n",
       "    </tr>\n",
       "    <tr>\n",
       "      <th>std</th>\n",
       "      <td>6.604395e+03</td>\n",
       "      <td>NaN</td>\n",
       "      <td>5.713317</td>\n",
       "      <td>22.627587</td>\n",
       "      <td>7.793099</td>\n",
       "      <td>17.234217</td>\n",
       "      <td>0.905327</td>\n",
       "      <td>2.157060</td>\n",
       "      <td>NaN</td>\n",
       "    </tr>\n",
       "    <tr>\n",
       "      <th>min</th>\n",
       "      <td>1.993365e+06</td>\n",
       "      <td>NaN</td>\n",
       "      <td>15.000000</td>\n",
       "      <td>45.000000</td>\n",
       "      <td>9.000000</td>\n",
       "      <td>90.000000</td>\n",
       "      <td>3.500000</td>\n",
       "      <td>14.900000</td>\n",
       "      <td>NaN</td>\n",
       "    </tr>\n",
       "    <tr>\n",
       "      <th>25%</th>\n",
       "      <td>1.994890e+06</td>\n",
       "      <td>NaN</td>\n",
       "      <td>22.000000</td>\n",
       "      <td>72.000000</td>\n",
       "      <td>82.000000</td>\n",
       "      <td>120.000000</td>\n",
       "      <td>4.800000</td>\n",
       "      <td>19.600000</td>\n",
       "      <td>NaN</td>\n",
       "    </tr>\n",
       "    <tr>\n",
       "      <th>50%</th>\n",
       "      <td>2.003000e+06</td>\n",
       "      <td>NaN</td>\n",
       "      <td>25.000000</td>\n",
       "      <td>80.000000</td>\n",
       "      <td>87.000000</td>\n",
       "      <td>128.000000</td>\n",
       "      <td>5.700000</td>\n",
       "      <td>21.300000</td>\n",
       "      <td>NaN</td>\n",
       "    </tr>\n",
       "    <tr>\n",
       "      <th>75%</th>\n",
       "      <td>2.010128e+06</td>\n",
       "      <td>NaN</td>\n",
       "      <td>30.000000</td>\n",
       "      <td>91.000000</td>\n",
       "      <td>92.000000</td>\n",
       "      <td>141.000000</td>\n",
       "      <td>6.000000</td>\n",
       "      <td>23.100000</td>\n",
       "      <td>NaN</td>\n",
       "    </tr>\n",
       "    <tr>\n",
       "      <th>max</th>\n",
       "      <td>2.013179e+06</td>\n",
       "      <td>NaN</td>\n",
       "      <td>48.000000</td>\n",
       "      <td>150.000000</td>\n",
       "      <td>142.000000</td>\n",
       "      <td>169.000000</td>\n",
       "      <td>8.900000</td>\n",
       "      <td>27.900000</td>\n",
       "      <td>NaN</td>\n",
       "    </tr>\n",
       "  </tbody>\n",
       "</table>\n",
       "</div>"
      ],
      "text/plain": [
       "          Patient ID   Name          Age  Heart rate(bpm)  \\\n",
       "count   6.103000e+03   6103  6103.000000      6103.000000   \n",
       "unique           NaN   5797          NaN              NaN   \n",
       "top              NaN  Ratna          NaN              NaN   \n",
       "freq             NaN      4          NaN              NaN   \n",
       "mean    2.003343e+06    NaN    26.388170        86.100770   \n",
       "std     6.604395e+03    NaN     5.713317        22.627587   \n",
       "min     1.993365e+06    NaN    15.000000        45.000000   \n",
       "25%     1.994890e+06    NaN    22.000000        72.000000   \n",
       "50%     2.003000e+06    NaN    25.000000        80.000000   \n",
       "75%     2.010128e+06    NaN    30.000000        91.000000   \n",
       "max     2.013179e+06    NaN    48.000000       150.000000   \n",
       "\n",
       "        Diastolic Blood Pressure(mm Hg)  Systolic Blood Pressure(mm Hg)  \\\n",
       "count                       6103.000000                     6103.000000   \n",
       "unique                              NaN                             NaN   \n",
       "top                                 NaN                             NaN   \n",
       "freq                                NaN                             NaN   \n",
       "mean                          87.257578                      129.218253   \n",
       "std                            7.793099                       17.234217   \n",
       "min                            9.000000                       90.000000   \n",
       "25%                           82.000000                      120.000000   \n",
       "50%                           87.000000                      128.000000   \n",
       "75%                           92.000000                      141.000000   \n",
       "max                          142.000000                      169.000000   \n",
       "\n",
       "        Blood Glucose(Fasting hour-mg/dl)  BMI(kg/m 2)    Outcome  \n",
       "count                         6103.000000  6103.000000       6103  \n",
       "unique                                NaN          NaN          3  \n",
       "top                                   NaN          NaN  high risk  \n",
       "freq                                  NaN          NaN       2059  \n",
       "mean                             5.504752    21.435581        NaN  \n",
       "std                              0.905327     2.157060        NaN  \n",
       "min                              3.500000    14.900000        NaN  \n",
       "25%                              4.800000    19.600000        NaN  \n",
       "50%                              5.700000    21.300000        NaN  \n",
       "75%                              6.000000    23.100000        NaN  \n",
       "max                              8.900000    27.900000        NaN  "
      ]
     },
     "execution_count": 442,
     "metadata": {},
     "output_type": "execute_result"
    }
   ],
   "source": [
    "df.describe(include='all')"
   ]
  },
  {
   "cell_type": "markdown",
   "id": "00af59be-5353-4371-a1cf-78014c664779",
   "metadata": {},
   "source": [
    "The `describe()` function with include='all' gives the summary statistics of all columns - both numeric and character columns."
   ]
  },
  {
   "cell_type": "markdown",
   "id": "c4102d6f-ba1f-4ba1-878d-0ad32a91dbc4",
   "metadata": {},
   "source": [
    "## Conclusion"
   ]
  },
  {
   "cell_type": "markdown",
   "id": "977c3801-5ebf-43c6-b6aa-48c3239bf9b8",
   "metadata": {},
   "source": [
    "Based on the data set if a woman has:\n",
    "- None of the factors exceeding or falling short of the normal range, she can be considered as having a low-risk pregnancy.\n",
    "- One of any of the factors exceeding or falling short of the normal range she can be considered as having a mid-risk pregnancy.\n",
    "- Two or more of the factors exceeding or falling short of the normal range, she can be considered as having a high-risk pregnancy.\n",
    "\n",
    "These risk conclusions have been marked accordingly on the sheet containing the data set.\n",
    "\n",
    "Data collection and analysis as done in this assignment can be used to determine several different results by several different parties. Some examples include:\n",
    "- Governments and health departments can tell whether a certain area is facing a surge of teen pregnancies (by looking at the mean and mode of pregnancy ages), an epidemic of high diabetes (by looking at the mean and mode of the pregnant women’s glucose levels) and many other such examples. They can use this data to see where to put state resources and come up with strategies to assist these communities. Monitoring trends and analyzing pregnancy risk data over time can show trends in complications and identify potential disparities in outcomes between different demographics. This information can guide public health initiatives aimed at improving overall pregnancy outcomes for all populations.\n",
    "- Doctors and medical personnel can use data found within to conduct further research and work on improving prenatal care. The more knowledge a doctor can gather, the more they are able to identify effective strategies for managing high-risk pregnancies. This can lead to the development of better prenatal care protocols and guidelines.\n",
    "- Creation of predictive models. Risk data can be used to develop statistical models that predict the likelihood of certain complications during pregnancy. This allows healthcare professionals to intervene early and provide appropriate care to high-risk mothers.\n",
    "- Woman themselves can take note of important factors that influence whether a pregnancy is high risk or not and with knowledge be proactive about their own health and wellbeing.\n",
    "\n",
    "Limitations to Consider:\n",
    "\n",
    "While valuable, pregnancy risk data analysis has limitations to bear in mind:\n",
    "- Correlation doesn't equal causation: Identifying a risk factor doesn't necessarily mean it directly causes a complication. We can see this via the covariance and correlation coefficients we were noting with certain factors.\n",
    "- There are many other factors not listed in this data set that can influence the riskiness of a pregnancy.\n",
    "- The accuracy and completeness of the data can impact the validity of the analysis. Example: A person’s blood pressure, glucose reading etc can vary throughout the day/week/month depending on other elements of occurring in their lives. A single poor reading does not mean that a pregnancy will be high/mid/low risk."
   ]
  },
  {
   "cell_type": "markdown",
   "id": "be588cb4-940c-42e0-bba0-b6d378238371",
   "metadata": {},
   "source": [
    "## Personal Reflection"
   ]
  },
  {
   "cell_type": "markdown",
   "id": "c4114098-5a38-4b31-a734-bb2942a8ec73",
   "metadata": {},
   "source": [
    "- Excel is a widely used program that many people from various educational backgrounds and age groups use because they find it simple to understand and use.\n",
    "- Excel is good for basic data entry, calculations, and visualizations. People make use of Excel for everyday tasks like shopping lists and household budgets.\n",
    "- Excel does not require any setup - having Microsoft on your machine is enough. Therefore, Excel spreadsheets portable and easy to share.\n",
    "- Python will need one to have some coding knowledge and would not be something the average person would know and understand at first glance.\n",
    "- Python is a powerful, highly customizable, scalable, and a flexible programming language so it is ideal for handling large and complex datasets.\n",
    "- Python requires software to be downloaded and configured\n",
    "- I found doing calculations in Excel to be tedious and time consuming. The calculations were also prone to errors as at times my cursor would jump all over the place. I needed to be observant with regards to the cells I was selecting for a particular calculation. I noted that some of my answers in the Excel assignment were horribly wrong when compared to the answers I got via Python. With Python, running formulas and functions were much more simplified and therefore less prone to human error.\n",
    "- I found being able to split up and group my data by category was better done in Excel than the Jupyter notebook. Excel allowed me to create individual sheets whilst Jupyter did not allow for this.\n",
    "- Jupyter requires one to type text via markdown whist Excel uses plain old text typing. The markdown adds some complexity with alignment and visual look. \n",
    "- Determining factors that would cause me to use Excel vs Python would be the audience that I would be preparing the data for as well as the type of data I would be required to work with. For example: Fellow developer colleagues would appreciate the quips that Python has to offer whilst Excel would serve well with a non-technical product owner.\n",
    "- A reminder to me from doing both assignments is to save my work at regular intervals and to commit the work done to a repository. A few times whilst experimenting with formulas, my laptop struggled to complete the calculations and caused both Excel and Jupyter to not respond. I lost work and productivity progress due to this negligence.\n",
    "- If I could do this assignment differently, I would like to find a dataset that is a lot more complex than the one I selected. It would be an interesting challenge to work with missing values, garbage data and bugs within the data, as in real life settings this is the type of data I would expect to find.\n",
    "- Both assignments have helped me recognise gaps in my stats knowledge. I did not know what many of the statistics were used for therefore trying to give meaning to the results received from calculations was a challenging task. I was able to somewhat upgrade my knowledge but a lot more research is needed on my part."
   ]
  },
  {
   "cell_type": "code",
   "execution_count": null,
   "id": "745b3174-048b-4470-b845-de6c7f8a25e3",
   "metadata": {},
   "outputs": [],
   "source": []
  }
 ],
 "metadata": {
  "kernelspec": {
   "display_name": "Python 3 (ipykernel)",
   "language": "python",
   "name": "python3"
  },
  "language_info": {
   "codemirror_mode": {
    "name": "ipython",
    "version": 3
   },
   "file_extension": ".py",
   "mimetype": "text/x-python",
   "name": "python",
   "nbconvert_exporter": "python",
   "pygments_lexer": "ipython3",
   "version": "3.11.7"
  }
 },
 "nbformat": 4,
 "nbformat_minor": 5
}
